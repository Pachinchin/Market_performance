{
 "cells": [
  {
   "cell_type": "markdown",
   "id": "00541944",
   "metadata": {},
   "source": [
    "## What is the determining factor for some KPIs:\n",
    "\n",
    "### A quick Exploratory data analysis "
   ]
  },
  {
   "cell_type": "code",
   "execution_count": 1,
   "id": "32d11781",
   "metadata": {
    "ExecuteTime": {
     "end_time": "2021-12-08T10:12:22.885183Z",
     "start_time": "2021-12-08T10:12:20.718366Z"
    }
   },
   "outputs": [],
   "source": [
    "#import the necessary libraries\n",
    "import matplotlib.pyplot as plt\n",
    "import seaborn as sns\n",
    "import datetime as dt\n",
    "import pandas as pd\n",
    "import numpy as np\n",
    "\n",
    "from sklearn.preprocessing import OrdinalEncoder"
   ]
  },
  {
   "cell_type": "code",
   "execution_count": 2,
   "id": "91d4f89d",
   "metadata": {
    "ExecuteTime": {
     "end_time": "2021-12-08T10:12:23.728750Z",
     "start_time": "2021-12-08T10:12:22.886679Z"
    }
   },
   "outputs": [
    {
     "name": "stderr",
     "output_type": "stream",
     "text": [
      "/Users/emeka/opt/anaconda3/lib/python3.8/site-packages/IPython/core/interactiveshell.py:3444: DtypeWarning: Columns (3) have mixed types.Specify dtype option on import or set low_memory=False.\n",
      "  exec(code_obj, self.user_global_ns, self.user_ns)\n"
     ]
    }
   ],
   "source": [
    "#read the data uisng pandas \n",
    "df = pd.read_csv('case_study_data.csv')"
   ]
  },
  {
   "cell_type": "code",
   "execution_count": 3,
   "id": "eae68571",
   "metadata": {
    "ExecuteTime": {
     "end_time": "2021-12-08T10:12:23.888749Z",
     "start_time": "2021-12-08T10:12:23.730581Z"
    }
   },
   "outputs": [],
   "source": [
    "df[['date_deposit','date_redemption']]=df[['date_deposit','date_redemption']].apply(lambda x: pd.to_datetime(x,format='%Y-%m-%d'))"
   ]
  },
  {
   "cell_type": "code",
   "execution_count": 4,
   "id": "f6e4cf08",
   "metadata": {
    "ExecuteTime": {
     "end_time": "2021-12-08T10:12:24.107042Z",
     "start_time": "2021-12-08T10:12:23.892039Z"
    }
   },
   "outputs": [
    {
     "data": {
      "text/html": [
       "<div>\n",
       "<style scoped>\n",
       "    .dataframe tbody tr th:only-of-type {\n",
       "        vertical-align: middle;\n",
       "    }\n",
       "\n",
       "    .dataframe tbody tr th {\n",
       "        vertical-align: top;\n",
       "    }\n",
       "\n",
       "    .dataframe thead th {\n",
       "        text-align: right;\n",
       "    }\n",
       "</style>\n",
       "<table border=\"1\" class=\"dataframe\">\n",
       "  <thead>\n",
       "    <tr style=\"text-align: right;\">\n",
       "      <th></th>\n",
       "      <th>lifetime_tours</th>\n",
       "      <th>lifetime_phv_tours</th>\n",
       "      <th>pre_campaign_phv_tours</th>\n",
       "      <th>campaign_phv_tours</th>\n",
       "      <th>pas_lc_status</th>\n",
       "      <th>pas_c_status</th>\n",
       "      <th>deposits</th>\n",
       "      <th>deposits_PAS</th>\n",
       "      <th>redeemed_PAS</th>\n",
       "      <th>campaign_tours</th>\n",
       "      <th>campaign_revenue</th>\n",
       "      <th>campaign_gmv</th>\n",
       "      <th>campaign_discount_value</th>\n",
       "    </tr>\n",
       "  </thead>\n",
       "  <tbody>\n",
       "    <tr>\n",
       "      <th>count</th>\n",
       "      <td>501137.000000</td>\n",
       "      <td>501137.000000</td>\n",
       "      <td>501137.000000</td>\n",
       "      <td>501137.000000</td>\n",
       "      <td>501234.000000</td>\n",
       "      <td>501234.000000</td>\n",
       "      <td>501369.000000</td>\n",
       "      <td>501369.0</td>\n",
       "      <td>501369.000000</td>\n",
       "      <td>501369.000000</td>\n",
       "      <td>94720.000000</td>\n",
       "      <td>94720.000000</td>\n",
       "      <td>94720.000000</td>\n",
       "    </tr>\n",
       "    <tr>\n",
       "      <th>mean</th>\n",
       "      <td>38.991609</td>\n",
       "      <td>6.510952</td>\n",
       "      <td>5.703885</td>\n",
       "      <td>0.807067</td>\n",
       "      <td>3.207097</td>\n",
       "      <td>3.084733</td>\n",
       "      <td>5.714189</td>\n",
       "      <td>1.0</td>\n",
       "      <td>0.188923</td>\n",
       "      <td>0.230447</td>\n",
       "      <td>2.351725</td>\n",
       "      <td>10.093243</td>\n",
       "      <td>2.178709</td>\n",
       "    </tr>\n",
       "    <tr>\n",
       "      <th>std</th>\n",
       "      <td>98.715459</td>\n",
       "      <td>15.902053</td>\n",
       "      <td>14.602252</td>\n",
       "      <td>1.953439</td>\n",
       "      <td>0.849154</td>\n",
       "      <td>1.148651</td>\n",
       "      <td>2.311474</td>\n",
       "      <td>0.0</td>\n",
       "      <td>0.391448</td>\n",
       "      <td>0.526843</td>\n",
       "      <td>1.415499</td>\n",
       "      <td>6.068438</td>\n",
       "      <td>1.638637</td>\n",
       "    </tr>\n",
       "    <tr>\n",
       "      <th>min</th>\n",
       "      <td>1.000000</td>\n",
       "      <td>0.000000</td>\n",
       "      <td>0.000000</td>\n",
       "      <td>0.000000</td>\n",
       "      <td>1.000000</td>\n",
       "      <td>1.000000</td>\n",
       "      <td>1.000000</td>\n",
       "      <td>1.0</td>\n",
       "      <td>0.000000</td>\n",
       "      <td>0.000000</td>\n",
       "      <td>0.562358</td>\n",
       "      <td>2.249433</td>\n",
       "      <td>0.224943</td>\n",
       "    </tr>\n",
       "    <tr>\n",
       "      <th>25%</th>\n",
       "      <td>2.000000</td>\n",
       "      <td>0.000000</td>\n",
       "      <td>0.000000</td>\n",
       "      <td>0.000000</td>\n",
       "      <td>2.000000</td>\n",
       "      <td>2.000000</td>\n",
       "      <td>6.000000</td>\n",
       "      <td>1.0</td>\n",
       "      <td>0.000000</td>\n",
       "      <td>0.000000</td>\n",
       "      <td>1.359501</td>\n",
       "      <td>5.826032</td>\n",
       "      <td>0.956009</td>\n",
       "    </tr>\n",
       "    <tr>\n",
       "      <th>50%</th>\n",
       "      <td>8.000000</td>\n",
       "      <td>0.000000</td>\n",
       "      <td>0.000000</td>\n",
       "      <td>0.000000</td>\n",
       "      <td>3.000000</td>\n",
       "      <td>4.000000</td>\n",
       "      <td>7.000000</td>\n",
       "      <td>1.0</td>\n",
       "      <td>0.000000</td>\n",
       "      <td>0.000000</td>\n",
       "      <td>2.010431</td>\n",
       "      <td>8.604081</td>\n",
       "      <td>1.777052</td>\n",
       "    </tr>\n",
       "    <tr>\n",
       "      <th>75%</th>\n",
       "      <td>32.000000</td>\n",
       "      <td>6.000000</td>\n",
       "      <td>4.000000</td>\n",
       "      <td>1.000000</td>\n",
       "      <td>4.000000</td>\n",
       "      <td>4.000000</td>\n",
       "      <td>7.000000</td>\n",
       "      <td>1.0</td>\n",
       "      <td>0.000000</td>\n",
       "      <td>0.000000</td>\n",
       "      <td>2.956950</td>\n",
       "      <td>12.709297</td>\n",
       "      <td>2.811791</td>\n",
       "    </tr>\n",
       "    <tr>\n",
       "      <th>max</th>\n",
       "      <td>4719.000000</td>\n",
       "      <td>378.000000</td>\n",
       "      <td>341.000000</td>\n",
       "      <td>68.000000</td>\n",
       "      <td>4.000000</td>\n",
       "      <td>4.000000</td>\n",
       "      <td>7.000000</td>\n",
       "      <td>1.0</td>\n",
       "      <td>1.000000</td>\n",
       "      <td>7.000000</td>\n",
       "      <td>29.289024</td>\n",
       "      <td>128.909383</td>\n",
       "      <td>26.678276</td>\n",
       "    </tr>\n",
       "  </tbody>\n",
       "</table>\n",
       "</div>"
      ],
      "text/plain": [
       "       lifetime_tours  lifetime_phv_tours  pre_campaign_phv_tours  \\\n",
       "count   501137.000000       501137.000000           501137.000000   \n",
       "mean        38.991609            6.510952                5.703885   \n",
       "std         98.715459           15.902053               14.602252   \n",
       "min          1.000000            0.000000                0.000000   \n",
       "25%          2.000000            0.000000                0.000000   \n",
       "50%          8.000000            0.000000                0.000000   \n",
       "75%         32.000000            6.000000                4.000000   \n",
       "max       4719.000000          378.000000              341.000000   \n",
       "\n",
       "       campaign_phv_tours  pas_lc_status   pas_c_status       deposits  \\\n",
       "count       501137.000000  501234.000000  501234.000000  501369.000000   \n",
       "mean             0.807067       3.207097       3.084733       5.714189   \n",
       "std              1.953439       0.849154       1.148651       2.311474   \n",
       "min              0.000000       1.000000       1.000000       1.000000   \n",
       "25%              0.000000       2.000000       2.000000       6.000000   \n",
       "50%              0.000000       3.000000       4.000000       7.000000   \n",
       "75%              1.000000       4.000000       4.000000       7.000000   \n",
       "max             68.000000       4.000000       4.000000       7.000000   \n",
       "\n",
       "       deposits_PAS   redeemed_PAS  campaign_tours  campaign_revenue  \\\n",
       "count      501369.0  501369.000000   501369.000000      94720.000000   \n",
       "mean            1.0       0.188923        0.230447          2.351725   \n",
       "std             0.0       0.391448        0.526843          1.415499   \n",
       "min             1.0       0.000000        0.000000          0.562358   \n",
       "25%             1.0       0.000000        0.000000          1.359501   \n",
       "50%             1.0       0.000000        0.000000          2.010431   \n",
       "75%             1.0       0.000000        0.000000          2.956950   \n",
       "max             1.0       1.000000        7.000000         29.289024   \n",
       "\n",
       "       campaign_gmv  campaign_discount_value  \n",
       "count  94720.000000             94720.000000  \n",
       "mean      10.093243                 2.178709  \n",
       "std        6.068438                 1.638637  \n",
       "min        2.249433                 0.224943  \n",
       "25%        5.826032                 0.956009  \n",
       "50%        8.604081                 1.777052  \n",
       "75%       12.709297                 2.811791  \n",
       "max      128.909383                26.678276  "
      ]
     },
     "execution_count": 4,
     "metadata": {},
     "output_type": "execute_result"
    }
   ],
   "source": [
    "df.describe()"
   ]
  },
  {
   "cell_type": "code",
   "execution_count": 5,
   "id": "81207dc4",
   "metadata": {
    "ExecuteTime": {
     "end_time": "2021-12-08T10:12:24.179498Z",
     "start_time": "2021-12-08T10:12:24.108711Z"
    }
   },
   "outputs": [
    {
     "data": {
      "text/plain": [
       "camp_variant                0.000000\n",
       "category                    0.000000\n",
       "date_deposit                0.000000\n",
       "date_redemption            81.107727\n",
       "id_p                        0.000000\n",
       "lifetime_tours              0.046273\n",
       "lifetime_phv_tours          0.046273\n",
       "pre_campaign_phv_tours      0.046273\n",
       "campaign_phv_tours          0.046273\n",
       "pas_lc_status               0.026926\n",
       "pas_c_status                0.026926\n",
       "deposits                    0.000000\n",
       "deposits_PAS                0.000000\n",
       "redeemed_PAS                0.000000\n",
       "campaign_tours              0.000000\n",
       "campaign_revenue           81.107727\n",
       "campaign_gmv               81.107727\n",
       "campaign_discount_value    81.107727\n",
       "dtype: float64"
      ]
     },
     "execution_count": 5,
     "metadata": {},
     "output_type": "execute_result"
    }
   ],
   "source": [
    "##check missing variables\n",
    "df.isnull().sum()/len(df)*100"
   ]
  },
  {
   "cell_type": "markdown",
   "id": "613c4cf2",
   "metadata": {},
   "source": [
    "## Finding 1\n",
    "* **20%** of the customers brings all of the Sales \n",
    "* This is as a result of same amount of customer not redeeming the promo as the values are also missing."
   ]
  },
  {
   "cell_type": "markdown",
   "id": "322f7c4c",
   "metadata": {},
   "source": [
    "## Feature Engineering "
   ]
  },
  {
   "cell_type": "code",
   "execution_count": 6,
   "id": "b2d5adda",
   "metadata": {
    "ExecuteTime": {
     "end_time": "2021-12-08T10:12:24.218692Z",
     "start_time": "2021-12-08T10:12:24.181274Z"
    }
   },
   "outputs": [],
   "source": [
    "df['days_redeem']=( df['date_redemption']-df['date_deposit']).dt.days\n",
    "df['Pre_camp']= (df['pre_campaign_phv_tours']>0)*1\n",
    "df['During_camp']=(df['campaign_phv_tours']>0)*1\n",
    "df['Neu_Lift'] = ((df['Pre_camp']==0)& (df['During_camp']==1))*1\n",
    "df['Old_Lift'] = ((df['Pre_camp']==1)& (df['During_camp']==1))*1"
   ]
  },
  {
   "cell_type": "code",
   "execution_count": 7,
   "id": "62145f82",
   "metadata": {
    "ExecuteTime": {
     "end_time": "2021-12-08T10:12:24.231813Z",
     "start_time": "2021-12-08T10:12:24.220644Z"
    }
   },
   "outputs": [],
   "source": [
    "df['profit'] = df['campaign_revenue']-df['redeemed_PAS']\n",
    "df['profitable'] = ((df['profit']>=1))*1\n"
   ]
  },
  {
   "cell_type": "code",
   "execution_count": 8,
   "id": "b10e4342",
   "metadata": {
    "ExecuteTime": {
     "end_time": "2021-12-08T10:12:24.239994Z",
     "start_time": "2021-12-08T10:12:24.233728Z"
    }
   },
   "outputs": [
    {
     "data": {
      "text/plain": [
       "0               NaT\n",
       "1               NaT\n",
       "2        2019-11-29\n",
       "3        2019-11-29\n",
       "4        2019-11-29\n",
       "            ...    \n",
       "501364   2019-12-11\n",
       "501365   2019-12-17\n",
       "501366          NaT\n",
       "501367          NaT\n",
       "501368   2019-12-13\n",
       "Name: date_redemption, Length: 501369, dtype: datetime64[ns]"
      ]
     },
     "execution_count": 8,
     "metadata": {},
     "output_type": "execute_result"
    }
   ],
   "source": [
    "df['date_redemption']"
   ]
  },
  {
   "cell_type": "code",
   "execution_count": 9,
   "id": "70cc4a5e",
   "metadata": {
    "ExecuteTime": {
     "end_time": "2021-12-08T10:12:24.501896Z",
     "start_time": "2021-12-08T10:12:24.241500Z"
    }
   },
   "outputs": [],
   "source": [
    "#from the first task\n",
    "#breakdown the dates \n",
    "def datefix(column):\n",
    "    #df['year']      = column.dt.year (this isn't needed here)\n",
    "    #df['month']     = column.dt.month (this isn't needed here)\n",
    "    df['day']       = column.dt.day\n",
    "    df['dayofweek'] = column.dt.weekday\n",
    "    global dowcol\n",
    "    \n",
    "    dowcol          = df['dayofweek']\n",
    "    \n",
    "    def rowclass(row):\n",
    "        if row == 5 or row == 6:\n",
    "            return 1 \n",
    "        else:\n",
    "            return 0\n",
    "    df['weenend_weekday'] = dowcol.apply(rowclass)\n",
    "df['date']     = pd.to_datetime(df.date_deposit, format = '%Y%m%d')\n",
    "datefix(df.date_deposit)"
   ]
  },
  {
   "cell_type": "markdown",
   "id": "261faf13",
   "metadata": {},
   "source": [
    "## Revenue by Days"
   ]
  },
  {
   "cell_type": "code",
   "execution_count": 10,
   "id": "2fc38514",
   "metadata": {
    "ExecuteTime": {
     "end_time": "2021-12-08T10:12:24.652534Z",
     "start_time": "2021-12-08T10:12:24.506044Z"
    }
   },
   "outputs": [
    {
     "data": {
      "text/plain": [
       "Text(0.5, 1.0, 'Transactions by Day')"
      ]
     },
     "execution_count": 10,
     "metadata": {},
     "output_type": "execute_result"
    },
    {
     "data": {
      "image/png": "[encoded data removed]",
      "text/plain": [
       "<Figure size 576x432 with 1 Axes>"
      ]
     },
     "metadata": {
      "needs_background": "light"
     },
     "output_type": "display_data"
    }
   ],
   "source": [
    "plt.figure(figsize=(8,6))\n",
    "sns.lineplot(x = \"day\", y = \"campaign_revenue\", data = df.groupby(\"day\").agg({\"campaign_revenue\":\"mean\"}), marker = \"o\", )\n",
    "plt.title(\"Transactions by Day\")"
   ]
  },
  {
   "cell_type": "code",
   "execution_count": 11,
   "id": "259f6776",
   "metadata": {
    "ExecuteTime": {
     "end_time": "2021-12-08T10:12:24.778347Z",
     "start_time": "2021-12-08T10:12:24.654317Z"
    }
   },
   "outputs": [
    {
     "data": {
      "text/plain": [
       "<AxesSubplot:xlabel='dayofweek', ylabel='campaign_revenue'>"
      ]
     },
     "execution_count": 11,
     "metadata": {},
     "output_type": "execute_result"
    },
    {
     "data": {
      "image/png": "[encoded data removed]",
      "text/plain": [
       "<Figure size 576x432 with 1 Axes>"
      ]
     },
     "metadata": {
      "needs_background": "light"
     },
     "output_type": "display_data"
    }
   ],
   "source": [
    "plt.figure(figsize=(8,6))\n",
    "sns.lineplot(x = \"dayofweek\", y = \"campaign_revenue\", data = df.groupby(\"dayofweek\").agg({\"campaign_revenue\":\"mean\"}), marker = \"o\", )"
   ]
  },
  {
   "cell_type": "code",
   "execution_count": 12,
   "id": "c209a1b6",
   "metadata": {
    "ExecuteTime": {
     "end_time": "2021-12-08T10:12:24.904808Z",
     "start_time": "2021-12-08T10:12:24.780353Z"
    }
   },
   "outputs": [
    {
     "data": {
      "text/plain": [
       "<AxesSubplot:xlabel='dayofweek', ylabel='campaign_tours'>"
      ]
     },
     "execution_count": 12,
     "metadata": {},
     "output_type": "execute_result"
    },
    {
     "data": {
      "image/png": "[encoded data removed]",
      "text/plain": [
       "<Figure size 576x432 with 1 Axes>"
      ]
     },
     "metadata": {
      "needs_background": "light"
     },
     "output_type": "display_data"
    }
   ],
   "source": [
    "plt.figure(figsize=(8,6))\n",
    "sns.lineplot(x = \"dayofweek\", y = \"campaign_tours\", data = df.groupby(\"dayofweek\").agg({\"campaign_tours\":\"sum\"}), marker = \"o\", )"
   ]
  },
  {
   "cell_type": "markdown",
   "id": "d28c7127",
   "metadata": {},
   "source": [
    "## Which camp variant redeems faster"
   ]
  },
  {
   "cell_type": "code",
   "execution_count": 13,
   "id": "4b86a443",
   "metadata": {
    "ExecuteTime": {
     "end_time": "2021-12-08T10:12:25.037522Z",
     "start_time": "2021-12-08T10:12:24.906810Z"
    }
   },
   "outputs": [
    {
     "data": {
      "text/plain": [
       "<AxesSubplot:xlabel='camp_variant', ylabel='days_redeem'>"
      ]
     },
     "execution_count": 13,
     "metadata": {},
     "output_type": "execute_result"
    },
    {
     "data": {
      "image/png": "[encoded data removed]",
      "text/plain": [
       "<Figure size 576x432 with 1 Axes>"
      ]
     },
     "metadata": {
      "needs_background": "light"
     },
     "output_type": "display_data"
    }
   ],
   "source": [
    "plt.figure(figsize=(8,6))\n",
    "sns.lineplot(x = \"camp_variant\", y = \"days_redeem\", data = df.groupby(\"camp_variant\").agg({\"days_redeem\":'mean'}), marker = \"o\", )\n",
    "\n"
   ]
  },
  {
   "cell_type": "markdown",
   "id": "ca214b4d",
   "metadata": {},
   "source": [
    "## Which camp has more revenue "
   ]
  },
  {
   "cell_type": "code",
   "execution_count": 14,
   "id": "484c076e",
   "metadata": {
    "ExecuteTime": {
     "end_time": "2021-12-08T10:12:25.165466Z",
     "start_time": "2021-12-08T10:12:25.039644Z"
    }
   },
   "outputs": [
    {
     "data": {
      "text/plain": [
       "<AxesSubplot:xlabel='camp_variant', ylabel='campaign_revenue'>"
      ]
     },
     "execution_count": 14,
     "metadata": {},
     "output_type": "execute_result"
    },
    {
     "data": {
      "image/png": "[encoded data removed]",
      "text/plain": [
       "<Figure size 576x432 with 1 Axes>"
      ]
     },
     "metadata": {
      "needs_background": "light"
     },
     "output_type": "display_data"
    }
   ],
   "source": [
    "plt.figure(figsize=(8,6))\n",
    "sns.lineplot(x = \"camp_variant\", y = \"campaign_revenue\", data = df.groupby(\"camp_variant\").agg({\"campaign_revenue\":'mean'}), marker = \"o\", )\n",
    "\n"
   ]
  },
  {
   "cell_type": "code",
   "execution_count": 15,
   "id": "479c8cf2",
   "metadata": {
    "ExecuteTime": {
     "end_time": "2021-12-08T10:12:25.335467Z",
     "start_time": "2021-12-08T10:12:25.167458Z"
    }
   },
   "outputs": [
    {
     "data": {
      "text/html": [
       "<div>\n",
       "<style scoped>\n",
       "    .dataframe tbody tr th:only-of-type {\n",
       "        vertical-align: middle;\n",
       "    }\n",
       "\n",
       "    .dataframe tbody tr th {\n",
       "        vertical-align: top;\n",
       "    }\n",
       "\n",
       "    .dataframe thead th {\n",
       "        text-align: right;\n",
       "    }\n",
       "</style>\n",
       "<table border=\"1\" class=\"dataframe\">\n",
       "  <thead>\n",
       "    <tr style=\"text-align: right;\">\n",
       "      <th></th>\n",
       "      <th>id_p</th>\n",
       "      <th>date_deposit</th>\n",
       "      <th>date_redemption</th>\n",
       "      <th>lifetime_tours</th>\n",
       "      <th>lifetime_phv_tours</th>\n",
       "      <th>pre_campaign_phv_tours</th>\n",
       "      <th>campaign_phv_tours</th>\n",
       "      <th>deposits_PAS</th>\n",
       "    </tr>\n",
       "  </thead>\n",
       "  <tbody>\n",
       "    <tr>\n",
       "      <th>0</th>\n",
       "      <td>ODUwMzUxOA==</td>\n",
       "      <td>2019-11-28</td>\n",
       "      <td>NaT</td>\n",
       "      <td>105.0</td>\n",
       "      <td>9.0</td>\n",
       "      <td>9.0</td>\n",
       "      <td>0.0</td>\n",
       "      <td>1</td>\n",
       "    </tr>\n",
       "    <tr>\n",
       "      <th>1</th>\n",
       "      <td>ODczMjI2MA==</td>\n",
       "      <td>2019-11-28</td>\n",
       "      <td>NaT</td>\n",
       "      <td>52.0</td>\n",
       "      <td>10.0</td>\n",
       "      <td>8.0</td>\n",
       "      <td>2.0</td>\n",
       "      <td>1</td>\n",
       "    </tr>\n",
       "    <tr>\n",
       "      <th>2</th>\n",
       "      <td>MTA1NTQwMw==</td>\n",
       "      <td>2019-11-29</td>\n",
       "      <td>2019-11-29</td>\n",
       "      <td>67.0</td>\n",
       "      <td>2.0</td>\n",
       "      <td>0.0</td>\n",
       "      <td>2.0</td>\n",
       "      <td>1</td>\n",
       "    </tr>\n",
       "    <tr>\n",
       "      <th>3</th>\n",
       "      <td>MTIzNDc2NjA=</td>\n",
       "      <td>2019-11-29</td>\n",
       "      <td>2019-11-29</td>\n",
       "      <td>69.0</td>\n",
       "      <td>11.0</td>\n",
       "      <td>10.0</td>\n",
       "      <td>1.0</td>\n",
       "      <td>1</td>\n",
       "    </tr>\n",
       "    <tr>\n",
       "      <th>4</th>\n",
       "      <td>MTIzNzk0MzM=</td>\n",
       "      <td>2019-11-29</td>\n",
       "      <td>2019-11-29</td>\n",
       "      <td>1.0</td>\n",
       "      <td>1.0</td>\n",
       "      <td>0.0</td>\n",
       "      <td>1.0</td>\n",
       "      <td>1</td>\n",
       "    </tr>\n",
       "    <tr>\n",
       "      <th>...</th>\n",
       "      <td>...</td>\n",
       "      <td>...</td>\n",
       "      <td>...</td>\n",
       "      <td>...</td>\n",
       "      <td>...</td>\n",
       "      <td>...</td>\n",
       "      <td>...</td>\n",
       "      <td>...</td>\n",
       "    </tr>\n",
       "    <tr>\n",
       "      <th>501364</th>\n",
       "      <td>MTQ5MzEzOTA=</td>\n",
       "      <td>2019-12-11</td>\n",
       "      <td>2019-12-11</td>\n",
       "      <td>351.0</td>\n",
       "      <td>8.0</td>\n",
       "      <td>6.0</td>\n",
       "      <td>2.0</td>\n",
       "      <td>1</td>\n",
       "    </tr>\n",
       "    <tr>\n",
       "      <th>501365</th>\n",
       "      <td>MTQ5MzEzOTA=</td>\n",
       "      <td>2019-12-11</td>\n",
       "      <td>2019-12-17</td>\n",
       "      <td>351.0</td>\n",
       "      <td>8.0</td>\n",
       "      <td>6.0</td>\n",
       "      <td>2.0</td>\n",
       "      <td>1</td>\n",
       "    </tr>\n",
       "    <tr>\n",
       "      <th>501366</th>\n",
       "      <td>NTU0ODM0MzQ=</td>\n",
       "      <td>2019-12-11</td>\n",
       "      <td>NaT</td>\n",
       "      <td>16.0</td>\n",
       "      <td>7.0</td>\n",
       "      <td>0.0</td>\n",
       "      <td>7.0</td>\n",
       "      <td>1</td>\n",
       "    </tr>\n",
       "    <tr>\n",
       "      <th>501367</th>\n",
       "      <td>NTgxNjk1ODY=</td>\n",
       "      <td>2019-12-12</td>\n",
       "      <td>NaT</td>\n",
       "      <td>1.0</td>\n",
       "      <td>1.0</td>\n",
       "      <td>0.0</td>\n",
       "      <td>1.0</td>\n",
       "      <td>1</td>\n",
       "    </tr>\n",
       "    <tr>\n",
       "      <th>501368</th>\n",
       "      <td>MzIyODg4MjQ=</td>\n",
       "      <td>2019-12-13</td>\n",
       "      <td>2019-12-13</td>\n",
       "      <td>5.0</td>\n",
       "      <td>3.0</td>\n",
       "      <td>0.0</td>\n",
       "      <td>3.0</td>\n",
       "      <td>1</td>\n",
       "    </tr>\n",
       "  </tbody>\n",
       "</table>\n",
       "<p>501369 rows × 8 columns</p>\n",
       "</div>"
      ],
      "text/plain": [
       "                id_p date_deposit date_redemption  lifetime_tours  \\\n",
       "0       ODUwMzUxOA==   2019-11-28             NaT           105.0   \n",
       "1       ODczMjI2MA==   2019-11-28             NaT            52.0   \n",
       "2       MTA1NTQwMw==   2019-11-29      2019-11-29            67.0   \n",
       "3       MTIzNDc2NjA=   2019-11-29      2019-11-29            69.0   \n",
       "4       MTIzNzk0MzM=   2019-11-29      2019-11-29             1.0   \n",
       "...              ...          ...             ...             ...   \n",
       "501364  MTQ5MzEzOTA=   2019-12-11      2019-12-11           351.0   \n",
       "501365  MTQ5MzEzOTA=   2019-12-11      2019-12-17           351.0   \n",
       "501366  NTU0ODM0MzQ=   2019-12-11             NaT            16.0   \n",
       "501367  NTgxNjk1ODY=   2019-12-12             NaT             1.0   \n",
       "501368  MzIyODg4MjQ=   2019-12-13      2019-12-13             5.0   \n",
       "\n",
       "        lifetime_phv_tours  pre_campaign_phv_tours  campaign_phv_tours  \\\n",
       "0                      9.0                     9.0                 0.0   \n",
       "1                     10.0                     8.0                 2.0   \n",
       "2                      2.0                     0.0                 2.0   \n",
       "3                     11.0                    10.0                 1.0   \n",
       "4                      1.0                     0.0                 1.0   \n",
       "...                    ...                     ...                 ...   \n",
       "501364                 8.0                     6.0                 2.0   \n",
       "501365                 8.0                     6.0                 2.0   \n",
       "501366                 7.0                     0.0                 7.0   \n",
       "501367                 1.0                     0.0                 1.0   \n",
       "501368                 3.0                     0.0                 3.0   \n",
       "\n",
       "        deposits_PAS  \n",
       "0                  1  \n",
       "1                  1  \n",
       "2                  1  \n",
       "3                  1  \n",
       "4                  1  \n",
       "...              ...  \n",
       "501364             1  \n",
       "501365             1  \n",
       "501366             1  \n",
       "501367             1  \n",
       "501368             1  \n",
       "\n",
       "[501369 rows x 8 columns]"
      ]
     },
     "execution_count": 15,
     "metadata": {},
     "output_type": "execute_result"
    }
   ],
   "source": [
    "df[['id_p','date_deposit','date_redemption','lifetime_tours','lifetime_phv_tours','pre_campaign_phv_tours','campaign_phv_tours','deposits_PAS']]"
   ]
  },
  {
   "cell_type": "code",
   "execution_count": 16,
   "id": "697dc0fe",
   "metadata": {
    "ExecuteTime": {
     "end_time": "2021-12-08T10:12:26.475161Z",
     "start_time": "2021-12-08T10:12:25.337359Z"
    }
   },
   "outputs": [
    {
     "data": {
      "text/html": [
       "<div>\n",
       "<style scoped>\n",
       "    .dataframe tbody tr th:only-of-type {\n",
       "        vertical-align: middle;\n",
       "    }\n",
       "\n",
       "    .dataframe tbody tr th {\n",
       "        vertical-align: top;\n",
       "    }\n",
       "\n",
       "    .dataframe thead th {\n",
       "        text-align: right;\n",
       "    }\n",
       "</style>\n",
       "<table border=\"1\" class=\"dataframe\">\n",
       "  <thead>\n",
       "    <tr style=\"text-align: right;\">\n",
       "      <th></th>\n",
       "      <th>id_p</th>\n",
       "      <th>lifetime_tours</th>\n",
       "      <th>lifetime_phv_tours</th>\n",
       "      <th>pre_campaign_phv_tours</th>\n",
       "      <th>campaign_phv_tours</th>\n",
       "      <th>pas_lc_status</th>\n",
       "      <th>pas_c_status</th>\n",
       "      <th>deposits</th>\n",
       "      <th>deposits_PAS</th>\n",
       "      <th>redeemed_PAS</th>\n",
       "      <th>...</th>\n",
       "      <th>days_redeem</th>\n",
       "      <th>Pre_camp</th>\n",
       "      <th>During_camp</th>\n",
       "      <th>Neu_Lift</th>\n",
       "      <th>Old_Lift</th>\n",
       "      <th>profit</th>\n",
       "      <th>profitable</th>\n",
       "      <th>day</th>\n",
       "      <th>dayofweek</th>\n",
       "      <th>weenend_weekday</th>\n",
       "    </tr>\n",
       "  </thead>\n",
       "  <tbody>\n",
       "    <tr>\n",
       "      <th>0</th>\n",
       "      <td>MTA0MDAxNDA=</td>\n",
       "      <td>4.0</td>\n",
       "      <td>0.0</td>\n",
       "      <td>0.0</td>\n",
       "      <td>0.0</td>\n",
       "      <td>3.0</td>\n",
       "      <td>4.0</td>\n",
       "      <td>7</td>\n",
       "      <td>1</td>\n",
       "      <td>0</td>\n",
       "      <td>...</td>\n",
       "      <td>0.0</td>\n",
       "      <td>0</td>\n",
       "      <td>0</td>\n",
       "      <td>0</td>\n",
       "      <td>0</td>\n",
       "      <td>0.000000</td>\n",
       "      <td>0</td>\n",
       "      <td>29</td>\n",
       "      <td>4</td>\n",
       "      <td>0</td>\n",
       "    </tr>\n",
       "    <tr>\n",
       "      <th>1</th>\n",
       "      <td>MTA0MDE2MDY=</td>\n",
       "      <td>325.0</td>\n",
       "      <td>1.0</td>\n",
       "      <td>1.0</td>\n",
       "      <td>0.0</td>\n",
       "      <td>4.0</td>\n",
       "      <td>1.0</td>\n",
       "      <td>7</td>\n",
       "      <td>1</td>\n",
       "      <td>0</td>\n",
       "      <td>...</td>\n",
       "      <td>0.0</td>\n",
       "      <td>1</td>\n",
       "      <td>0</td>\n",
       "      <td>0</td>\n",
       "      <td>0</td>\n",
       "      <td>0.000000</td>\n",
       "      <td>0</td>\n",
       "      <td>29</td>\n",
       "      <td>4</td>\n",
       "      <td>0</td>\n",
       "    </tr>\n",
       "    <tr>\n",
       "      <th>2</th>\n",
       "      <td>MTA0MDE5ODQ=</td>\n",
       "      <td>86.0</td>\n",
       "      <td>2.0</td>\n",
       "      <td>2.0</td>\n",
       "      <td>0.0</td>\n",
       "      <td>4.0</td>\n",
       "      <td>4.0</td>\n",
       "      <td>7</td>\n",
       "      <td>1</td>\n",
       "      <td>0</td>\n",
       "      <td>...</td>\n",
       "      <td>0.0</td>\n",
       "      <td>1</td>\n",
       "      <td>0</td>\n",
       "      <td>0</td>\n",
       "      <td>0</td>\n",
       "      <td>0.000000</td>\n",
       "      <td>0</td>\n",
       "      <td>29</td>\n",
       "      <td>4</td>\n",
       "      <td>0</td>\n",
       "    </tr>\n",
       "    <tr>\n",
       "      <th>3</th>\n",
       "      <td>MTA0MDEwODA=</td>\n",
       "      <td>190.0</td>\n",
       "      <td>26.0</td>\n",
       "      <td>24.0</td>\n",
       "      <td>2.0</td>\n",
       "      <td>8.0</td>\n",
       "      <td>2.0</td>\n",
       "      <td>7</td>\n",
       "      <td>2</td>\n",
       "      <td>1</td>\n",
       "      <td>...</td>\n",
       "      <td>7.0</td>\n",
       "      <td>2</td>\n",
       "      <td>2</td>\n",
       "      <td>0</td>\n",
       "      <td>2</td>\n",
       "      <td>-0.114286</td>\n",
       "      <td>0</td>\n",
       "      <td>56</td>\n",
       "      <td>6</td>\n",
       "      <td>0</td>\n",
       "    </tr>\n",
       "    <tr>\n",
       "      <th>4</th>\n",
       "      <td>MTA0MDExNTc=</td>\n",
       "      <td>34.0</td>\n",
       "      <td>1.0</td>\n",
       "      <td>1.0</td>\n",
       "      <td>0.0</td>\n",
       "      <td>4.0</td>\n",
       "      <td>4.0</td>\n",
       "      <td>7</td>\n",
       "      <td>1</td>\n",
       "      <td>0</td>\n",
       "      <td>...</td>\n",
       "      <td>0.0</td>\n",
       "      <td>1</td>\n",
       "      <td>0</td>\n",
       "      <td>0</td>\n",
       "      <td>0</td>\n",
       "      <td>0.000000</td>\n",
       "      <td>0</td>\n",
       "      <td>28</td>\n",
       "      <td>3</td>\n",
       "      <td>0</td>\n",
       "    </tr>\n",
       "    <tr>\n",
       "      <th>...</th>\n",
       "      <td>...</td>\n",
       "      <td>...</td>\n",
       "      <td>...</td>\n",
       "      <td>...</td>\n",
       "      <td>...</td>\n",
       "      <td>...</td>\n",
       "      <td>...</td>\n",
       "      <td>...</td>\n",
       "      <td>...</td>\n",
       "      <td>...</td>\n",
       "      <td>...</td>\n",
       "      <td>...</td>\n",
       "      <td>...</td>\n",
       "      <td>...</td>\n",
       "      <td>...</td>\n",
       "      <td>...</td>\n",
       "      <td>...</td>\n",
       "      <td>...</td>\n",
       "      <td>...</td>\n",
       "      <td>...</td>\n",
       "      <td>...</td>\n",
       "    </tr>\n",
       "    <tr>\n",
       "      <th>410347</th>\n",
       "      <td>OTkzODc1</td>\n",
       "      <td>56.0</td>\n",
       "      <td>2.0</td>\n",
       "      <td>0.0</td>\n",
       "      <td>2.0</td>\n",
       "      <td>8.0</td>\n",
       "      <td>8.0</td>\n",
       "      <td>7</td>\n",
       "      <td>2</td>\n",
       "      <td>1</td>\n",
       "      <td>...</td>\n",
       "      <td>6.0</td>\n",
       "      <td>0</td>\n",
       "      <td>2</td>\n",
       "      <td>2</td>\n",
       "      <td>0</td>\n",
       "      <td>0.110658</td>\n",
       "      <td>0</td>\n",
       "      <td>58</td>\n",
       "      <td>8</td>\n",
       "      <td>0</td>\n",
       "    </tr>\n",
       "    <tr>\n",
       "      <th>410348</th>\n",
       "      <td>OTkzODcwMA==</td>\n",
       "      <td>4.0</td>\n",
       "      <td>0.0</td>\n",
       "      <td>0.0</td>\n",
       "      <td>0.0</td>\n",
       "      <td>3.0</td>\n",
       "      <td>3.0</td>\n",
       "      <td>7</td>\n",
       "      <td>1</td>\n",
       "      <td>0</td>\n",
       "      <td>...</td>\n",
       "      <td>0.0</td>\n",
       "      <td>0</td>\n",
       "      <td>0</td>\n",
       "      <td>0</td>\n",
       "      <td>0</td>\n",
       "      <td>0.000000</td>\n",
       "      <td>0</td>\n",
       "      <td>29</td>\n",
       "      <td>4</td>\n",
       "      <td>0</td>\n",
       "    </tr>\n",
       "    <tr>\n",
       "      <th>410349</th>\n",
       "      <td>OTkzODk2OQ==</td>\n",
       "      <td>7.0</td>\n",
       "      <td>0.0</td>\n",
       "      <td>0.0</td>\n",
       "      <td>0.0</td>\n",
       "      <td>3.0</td>\n",
       "      <td>4.0</td>\n",
       "      <td>7</td>\n",
       "      <td>1</td>\n",
       "      <td>0</td>\n",
       "      <td>...</td>\n",
       "      <td>0.0</td>\n",
       "      <td>0</td>\n",
       "      <td>0</td>\n",
       "      <td>0</td>\n",
       "      <td>0</td>\n",
       "      <td>0.000000</td>\n",
       "      <td>0</td>\n",
       "      <td>29</td>\n",
       "      <td>4</td>\n",
       "      <td>0</td>\n",
       "    </tr>\n",
       "    <tr>\n",
       "      <th>410350</th>\n",
       "      <td>OTkzOTE3OQ==</td>\n",
       "      <td>237.0</td>\n",
       "      <td>0.0</td>\n",
       "      <td>0.0</td>\n",
       "      <td>0.0</td>\n",
       "      <td>4.0</td>\n",
       "      <td>3.0</td>\n",
       "      <td>7</td>\n",
       "      <td>1</td>\n",
       "      <td>0</td>\n",
       "      <td>...</td>\n",
       "      <td>0.0</td>\n",
       "      <td>0</td>\n",
       "      <td>0</td>\n",
       "      <td>0</td>\n",
       "      <td>0</td>\n",
       "      <td>0.000000</td>\n",
       "      <td>0</td>\n",
       "      <td>29</td>\n",
       "      <td>4</td>\n",
       "      <td>0</td>\n",
       "    </tr>\n",
       "    <tr>\n",
       "      <th>410351</th>\n",
       "      <td>OTkzOTk5MQ==</td>\n",
       "      <td>79.0</td>\n",
       "      <td>0.0</td>\n",
       "      <td>0.0</td>\n",
       "      <td>0.0</td>\n",
       "      <td>4.0</td>\n",
       "      <td>4.0</td>\n",
       "      <td>7</td>\n",
       "      <td>1</td>\n",
       "      <td>0</td>\n",
       "      <td>...</td>\n",
       "      <td>0.0</td>\n",
       "      <td>0</td>\n",
       "      <td>0</td>\n",
       "      <td>0</td>\n",
       "      <td>0</td>\n",
       "      <td>0.000000</td>\n",
       "      <td>0</td>\n",
       "      <td>29</td>\n",
       "      <td>4</td>\n",
       "      <td>0</td>\n",
       "    </tr>\n",
       "  </tbody>\n",
       "</table>\n",
       "<p>410352 rows × 24 columns</p>\n",
       "</div>"
      ],
      "text/plain": [
       "                id_p  lifetime_tours  lifetime_phv_tours  \\\n",
       "0       MTA0MDAxNDA=             4.0                 0.0   \n",
       "1       MTA0MDE2MDY=           325.0                 1.0   \n",
       "2       MTA0MDE5ODQ=            86.0                 2.0   \n",
       "3       MTA0MDEwODA=           190.0                26.0   \n",
       "4       MTA0MDExNTc=            34.0                 1.0   \n",
       "...              ...             ...                 ...   \n",
       "410347      OTkzODc1            56.0                 2.0   \n",
       "410348  OTkzODcwMA==             4.0                 0.0   \n",
       "410349  OTkzODk2OQ==             7.0                 0.0   \n",
       "410350  OTkzOTE3OQ==           237.0                 0.0   \n",
       "410351  OTkzOTk5MQ==            79.0                 0.0   \n",
       "\n",
       "        pre_campaign_phv_tours  campaign_phv_tours  pas_lc_status  \\\n",
       "0                          0.0                 0.0            3.0   \n",
       "1                          1.0                 0.0            4.0   \n",
       "2                          2.0                 0.0            4.0   \n",
       "3                         24.0                 2.0            8.0   \n",
       "4                          1.0                 0.0            4.0   \n",
       "...                        ...                 ...            ...   \n",
       "410347                     0.0                 2.0            8.0   \n",
       "410348                     0.0                 0.0            3.0   \n",
       "410349                     0.0                 0.0            3.0   \n",
       "410350                     0.0                 0.0            4.0   \n",
       "410351                     0.0                 0.0            4.0   \n",
       "\n",
       "        pas_c_status  deposits  deposits_PAS  redeemed_PAS  ...  days_redeem  \\\n",
       "0                4.0         7             1             0  ...          0.0   \n",
       "1                1.0         7             1             0  ...          0.0   \n",
       "2                4.0         7             1             0  ...          0.0   \n",
       "3                2.0         7             2             1  ...          7.0   \n",
       "4                4.0         7             1             0  ...          0.0   \n",
       "...              ...       ...           ...           ...  ...          ...   \n",
       "410347           8.0         7             2             1  ...          6.0   \n",
       "410348           3.0         7             1             0  ...          0.0   \n",
       "410349           4.0         7             1             0  ...          0.0   \n",
       "410350           3.0         7             1             0  ...          0.0   \n",
       "410351           4.0         7             1             0  ...          0.0   \n",
       "\n",
       "        Pre_camp  During_camp  Neu_Lift  Old_Lift    profit  profitable  day  \\\n",
       "0              0            0         0         0  0.000000           0   29   \n",
       "1              1            0         0         0  0.000000           0   29   \n",
       "2              1            0         0         0  0.000000           0   29   \n",
       "3              2            2         0         2 -0.114286           0   56   \n",
       "4              1            0         0         0  0.000000           0   28   \n",
       "...          ...          ...       ...       ...       ...         ...  ...   \n",
       "410347         0            2         2         0  0.110658           0   58   \n",
       "410348         0            0         0         0  0.000000           0   29   \n",
       "410349         0            0         0         0  0.000000           0   29   \n",
       "410350         0            0         0         0  0.000000           0   29   \n",
       "410351         0            0         0         0  0.000000           0   29   \n",
       "\n",
       "        dayofweek  weenend_weekday  \n",
       "0               4                0  \n",
       "1               4                0  \n",
       "2               4                0  \n",
       "3               6                0  \n",
       "4               3                0  \n",
       "...           ...              ...  \n",
       "410347          8                0  \n",
       "410348          4                0  \n",
       "410349          4                0  \n",
       "410350          4                0  \n",
       "410351          4                0  \n",
       "\n",
       "[410352 rows x 24 columns]"
      ]
     },
     "execution_count": 16,
     "metadata": {},
     "output_type": "execute_result"
    }
   ],
   "source": [
    "#group by customer unique id\n",
    "dataset= df.groupby(by='id_p', as_index=False).sum()\n",
    "dataset"
   ]
  },
  {
   "cell_type": "markdown",
   "id": "d32cccf4",
   "metadata": {},
   "source": [
    "## Find the most import features\n",
    "#### create the dependent variables "
   ]
  },
  {
   "cell_type": "code",
   "execution_count": 18,
   "id": "54882cb7",
   "metadata": {
    "ExecuteTime": {
     "end_time": "2021-12-08T10:12:48.758128Z",
     "start_time": "2021-12-08T10:12:48.739943Z"
    }
   },
   "outputs": [],
   "source": [
    "## Redemption rate\n",
    "dataset['Redemed']=(dataset['days_redeem']>=1)*1\n",
    "#Retentionrate\n",
    "dataset['Retain']= ((dataset['Old_Lift']==1)| (dataset['Neu_Lift']==1))"
   ]
  },
  {
   "cell_type": "code",
   "execution_count": 19,
   "id": "5b3886c9",
   "metadata": {
    "ExecuteTime": {
     "end_time": "2021-12-08T10:12:49.291829Z",
     "start_time": "2021-12-08T10:12:49.212240Z"
    }
   },
   "outputs": [],
   "source": [
    "#Data classification\n",
    "datatype = dataset.dtypes\n",
    "cat_col  = datatype[(datatype == 'object') | (datatype == 'category')].index.tolist()\n",
    "cal_data = dataset[cat_col]\n",
    "dataset_cat=cal_data[cat_col]\n"
   ]
  },
  {
   "cell_type": "markdown",
   "id": "65b95284",
   "metadata": {},
   "source": [
    "### Encode the data"
   ]
  },
  {
   "cell_type": "code",
   "execution_count": 21,
   "id": "4ec9bb27",
   "metadata": {
    "ExecuteTime": {
     "end_time": "2021-12-08T10:12:51.986927Z",
     "start_time": "2021-12-08T10:12:50.244813Z"
    }
   },
   "outputs": [],
   "source": [
    "encoder = OrdinalEncoder()\n",
    "# transform data\n",
    "result = encoder.fit_transform(dataset_cat)\n",
    "q = pd.DataFrame(data=result, columns=cat_col)\n",
    "#datset drop categorical data\n",
    "dataset= dataset.drop(columns= cat_col)\n",
    "#add the mapped encoded categorical data\n",
    "enc_dataset = pd.concat([dataset, q], axis =1)"
   ]
  },
  {
   "cell_type": "code",
   "execution_count": 22,
   "id": "826bab1f",
   "metadata": {
    "ExecuteTime": {
     "end_time": "2021-12-08T10:12:52.158947Z",
     "start_time": "2021-12-08T10:12:51.989221Z"
    }
   },
   "outputs": [],
   "source": [
    "#set the target and predictor variable\n",
    "target1 ='Retain'\n",
    "target2 = 'Redemed'\n",
    "predictors1 = enc_dataset.drop(columns = [target1]).columns\n",
    "predictors2 = enc_dataset.drop(columns = [target2]).columns"
   ]
  },
  {
   "cell_type": "code",
   "execution_count": null,
   "id": "71ce4047",
   "metadata": {},
   "outputs": [],
   "source": []
  },
  {
   "cell_type": "code",
   "execution_count": 23,
   "id": "307be605",
   "metadata": {
    "ExecuteTime": {
     "end_time": "2021-12-08T10:12:52.228443Z",
     "start_time": "2021-12-08T10:12:52.161216Z"
    }
   },
   "outputs": [],
   "source": [
    "predictors = enc_dataset.columns\n",
    "X1= enc_dataset[predictors1]\n",
    "y1 = enc_dataset[target1]\n",
    "X2= enc_dataset[predictors2]\n",
    "y2 = enc_dataset[target2]"
   ]
  },
  {
   "cell_type": "markdown",
   "id": "ee0fdb8c",
   "metadata": {},
   "source": [
    "### Select the feature"
   ]
  },
  {
   "cell_type": "code",
   "execution_count": 27,
   "id": "83058280",
   "metadata": {
    "ExecuteTime": {
     "end_time": "2021-12-08T10:15:26.025551Z",
     "start_time": "2021-12-08T10:15:26.019333Z"
    }
   },
   "outputs": [],
   "source": [
    "from sklearn.ensemble import RandomForestClassifier\n",
    "from sklearn.feature_selection import RFE\n",
    "from ordered_set import OrderedSet\n",
    "\n",
    "def get_col(model,X,y,n):\n",
    "    '''\n",
    "    This function uses Random forest regressor to get the important variables for the data set X and y, \n",
    "    the result are then plotted with the weighted contribution included.    \n",
    "    '''\n",
    "    model.fit(X,y)\n",
    "    features = X.columns\n",
    "    importances = model.feature_importances_\n",
    "    indices = np.argsort(importances)[-n:]  # top 15 features\n",
    "    plt.title('Feature Importances')\n",
    "    plt.barh(range(len(indices)), importances[indices], color='b', align='center')\n",
    "    plt.yticks(range(len(indices)), [features[i] for i in indices])\n",
    "    plt.xlabel('Relative Importance')\n",
    "    plt.show()\n",
    "    \n",
    "def feat_imp(model,X,y,n):\n",
    "    '''\n",
    "    Get values of important features.\n",
    "    '''\n",
    "    d=[]\n",
    "    t = OrderedSet()\n",
    "    importances = model.feature_importances_\n",
    "    features = X.columns\n",
    "    for i in range(1,n):\n",
    "        j=np.argsort(importances)[-(int(i)):] \n",
    "        j[:]= j[::-1]\n",
    "        u= (importances[j] *100).round(2)\n",
    "        g= features[j]\n",
    "        d.append(u)\n",
    "        t.update(g)\n",
    "    \n",
    "    \n",
    "    feat_import= pd.DataFrame(data=d,columns=t)\n",
    "    #feat_import[\"sum_importance\"] = feat_import.sum(axis=1)\n",
    "    return feat_import\n",
    "\n",
    "\n",
    "model = RandomForestClassifier(random_state=1, max_depth=10)\n"
   ]
  },
  {
   "cell_type": "code",
   "execution_count": 26,
   "id": "19b866d8",
   "metadata": {
    "ExecuteTime": {
     "end_time": "2021-12-08T10:15:26.017292Z",
     "start_time": "2021-12-08T10:15:14.563491Z"
    }
   },
   "outputs": [
    {
     "data": {
      "image/png": "[encoded data removed]",
      "text/plain": [
       "<Figure size 432x288 with 1 Axes>"
      ]
     },
     "metadata": {
      "needs_background": "light"
     },
     "output_type": "display_data"
    }
   ],
   "source": [
    "#Get the important festures for Retention rate\n",
    "get_col(model,X1,y1,10)"
   ]
  },
  {
   "cell_type": "code",
   "execution_count": 28,
   "id": "44388270",
   "metadata": {
    "ExecuteTime": {
     "end_time": "2021-12-08T10:15:35.955596Z",
     "start_time": "2021-12-08T10:15:26.027320Z"
    }
   },
   "outputs": [
    {
     "data": {
      "image/png": "[encoded data removed]",
      "text/plain": [
       "<Figure size 432x288 with 1 Axes>"
      ]
     },
     "metadata": {
      "needs_background": "light"
     },
     "output_type": "display_data"
    }
   ],
   "source": [
    "#Get the important festures for Redemption rate\n",
    "get_col(model,X2,y2,10)"
   ]
  }
 ],
 "metadata": {
  "kernelspec": {
   "display_name": "Python 3 (ipykernel)",
   "language": "python",
   "name": "python3"
  },
  "language_info": {
   "codemirror_mode": {
    "name": "ipython",
    "version": 3
   },
   "file_extension": ".py",
   "mimetype": "text/x-python",
   "name": "python",
   "nbconvert_exporter": "python",
   "pygments_lexer": "ipython3",
   "version": "3.8.12"
  }
 },
 "nbformat": 4,
 "nbformat_minor": 5
}
