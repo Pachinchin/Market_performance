{
 "cells": [
  {
   "cell_type": "markdown",
   "id": "0ba52a0b",
   "metadata": {},
   "source": [
    "## A/B testing of campaign effectiveness "
   ]
  },
  {
   "cell_type": "markdown",
   "id": "f459d834",
   "metadata": {},
   "source": [
    "### Experimental design \n",
    "Since we want to know if the campaign perform better or worse( or the same).\n",
    "The choice of test is two tailed test: \n",
    "\n",
    "**Assumption** \n",
    "* Null Hypothesis\n",
    "    * This is the presumption that there is no significant difference between the two. \n",
    "    * written as: Hₒ: p = pₒ\n",
    "* **Alternate Hypothesis** \n",
    "    * This is the presumption that there is a significant difference between the two. Here the Null hypothesis is rejected\n",
    "    * Written as: Hₐ: p ≠ pₒ\n",
    "    \n",
    "NB-- p and pₒ is the conversion rate of the new and old design respectively. \n",
    "\n",
    "**Confidence level:**\n",
    " The confidence level is set at 95% \\\n",
    " making alpha = 1- confidence level\\\n",
    "               = 1 - 0.95\\\n",
    "                α =0.05"
   ]
  },
  {
   "cell_type": "markdown",
   "id": "38406b01",
   "metadata": {},
   "source": [
    "## Variable selection \n",
    "A control group = The before the campaign\n",
    "A treatment group = After the campaign\n",
    "\n",
    "###  Test KPI \n",
    "Conversion rate -- This is used to denote the usage rate of PHV before and after the designated campaign.\n",
    "\n",
    "\n",
    "## Sample size selection \n",
    "The shape of the data is 501369 rows , and 18 columns. \n",
    "The unique user count is 410352 users. The question is how many samples do we need. \n",
    "\n",
    "It is imporant to note that the sample size affect the precision of our estimates. The **larger the samples the more accurate/ precise our estimates are.**\n",
    "\n",
    "* Method\n",
    "Power Analysis \n"
   ]
  },
  {
   "cell_type": "code",
   "execution_count": 1,
   "id": "d46df965",
   "metadata": {
    "ExecuteTime": {
     "end_time": "2021-12-08T10:38:30.548486Z",
     "start_time": "2021-12-08T10:38:28.488664Z"
    }
   },
   "outputs": [],
   "source": [
    "#import the necessary libraries\n",
    "import scipy.stats as stats\n",
    "import matplotlib.pyplot as plt\n",
    "import seaborn as sns\n",
    "import datetime as dt\n",
    "import pandas as pd\n",
    "import numpy as np\n",
    "import math\n",
    "import csv \n",
    "from scipy.stats import norm"
   ]
  },
  {
   "cell_type": "code",
   "execution_count": 2,
   "id": "874105e3",
   "metadata": {
    "ExecuteTime": {
     "end_time": "2021-12-08T10:38:31.287234Z",
     "start_time": "2021-12-08T10:38:30.551952Z"
    }
   },
   "outputs": [
    {
     "name": "stderr",
     "output_type": "stream",
     "text": [
      "/Users/emeka/opt/anaconda3/lib/python3.8/site-packages/IPython/core/interactiveshell.py:3444: DtypeWarning: Columns (3) have mixed types.Specify dtype option on import or set low_memory=False.\n",
      "  exec(code_obj, self.user_global_ns, self.user_ns)\n"
     ]
    }
   ],
   "source": [
    "#read the data uisng pandas \n",
    "df = pd.read_csv('case_study_data.csv')"
   ]
  },
  {
   "cell_type": "code",
   "execution_count": 3,
   "id": "7ebf2449",
   "metadata": {
    "ExecuteTime": {
     "end_time": "2021-12-08T10:38:31.437205Z",
     "start_time": "2021-12-08T10:38:31.289139Z"
    }
   },
   "outputs": [],
   "source": [
    "df[['date_deposit','date_redemption']]=df[['date_deposit','date_redemption']].apply(lambda x: pd.to_datetime(x,format='%Y-%m-%d'))"
   ]
  },
  {
   "cell_type": "code",
   "execution_count": 4,
   "id": "4ecd7b34",
   "metadata": {
    "ExecuteTime": {
     "end_time": "2021-12-08T10:38:31.812469Z",
     "start_time": "2021-12-08T10:38:31.440075Z"
    }
   },
   "outputs": [
    {
     "data": {
      "text/plain": [
       "NzA1ODIwMQ==    10\n",
       "MzQwMDU4ODk=    10\n",
       "NDg2NDM4Nzc=    10\n",
       "NTc0Nzc0NDc=     9\n",
       "MTgyMjMzOTU=     9\n",
       "                ..\n",
       "MjA0NTA3NzA=     1\n",
       "MjA0NTA1OTE=     1\n",
       "MjA0NTA1Mjc=     1\n",
       "MjA0NDkyOTM=     1\n",
       "MzIyODg4MjQ=     1\n",
       "Name: id_p, Length: 410352, dtype: int64"
      ]
     },
     "execution_count": 4,
     "metadata": {},
     "output_type": "execute_result"
    }
   ],
   "source": [
    "df.id_p.value_counts()"
   ]
  },
  {
   "cell_type": "code",
   "execution_count": 5,
   "id": "19f47f22",
   "metadata": {
    "ExecuteTime": {
     "end_time": "2021-12-08T10:38:32.159430Z",
     "start_time": "2021-12-08T10:38:31.814227Z"
    }
   },
   "outputs": [
    {
     "name": "stdout",
     "output_type": "stream",
     "text": [
      "The time range of transactions is: 2019-11-28 to 2019-12-17\n",
      "Total number of unique customers: 410352\n",
      "Total quantity Sold: 19540138.0\n",
      "Total sales for the period: $222755.39)\n"
     ]
    }
   ],
   "source": [
    "# Explore the data set by Printing the details of the dataset\n",
    "maxdate = df['date_deposit'].dt.date.max()\n",
    "mindate = df['date_deposit'].dt.date.min()\n",
    "unique_cust = df['id_p'].nunique()\n",
    "tot_tours = df['lifetime_tours'].sum()\n",
    "tot_rev = df['campaign_revenue'].sum()\n",
    "\n",
    "\n",
    "print(f\"The time range of transactions is: {mindate} to {maxdate}\")\n",
    "print(f\"Total number of unique customers: {unique_cust}\")\n",
    "print(f\"Total quantity Sold: {tot_tours}\")\n",
    "print(f\"Total sales for the period: ${tot_rev.round(2)})\")\n"
   ]
  },
  {
   "cell_type": "code",
   "execution_count": 6,
   "id": "ec69ddc2",
   "metadata": {
    "ExecuteTime": {
     "end_time": "2021-12-08T10:38:32.165192Z",
     "start_time": "2021-12-08T10:38:32.161203Z"
    }
   },
   "outputs": [
    {
     "data": {
      "text/plain": [
       "(501369, 18)"
      ]
     },
     "execution_count": 6,
     "metadata": {},
     "output_type": "execute_result"
    }
   ],
   "source": [
    "df.shape"
   ]
  },
  {
   "cell_type": "code",
   "execution_count": 7,
   "id": "862c882d",
   "metadata": {
    "ExecuteTime": {
     "end_time": "2021-12-08T10:38:32.366734Z",
     "start_time": "2021-12-08T10:38:32.166942Z"
    }
   },
   "outputs": [
    {
     "data": {
      "text/html": [
       "<div>\n",
       "<style scoped>\n",
       "    .dataframe tbody tr th:only-of-type {\n",
       "        vertical-align: middle;\n",
       "    }\n",
       "\n",
       "    .dataframe tbody tr th {\n",
       "        vertical-align: top;\n",
       "    }\n",
       "\n",
       "    .dataframe thead th {\n",
       "        text-align: right;\n",
       "    }\n",
       "</style>\n",
       "<table border=\"1\" class=\"dataframe\">\n",
       "  <thead>\n",
       "    <tr style=\"text-align: right;\">\n",
       "      <th></th>\n",
       "      <th>lifetime_tours</th>\n",
       "      <th>lifetime_phv_tours</th>\n",
       "      <th>pre_campaign_phv_tours</th>\n",
       "      <th>campaign_phv_tours</th>\n",
       "      <th>pas_lc_status</th>\n",
       "      <th>pas_c_status</th>\n",
       "      <th>deposits</th>\n",
       "      <th>deposits_PAS</th>\n",
       "      <th>redeemed_PAS</th>\n",
       "      <th>campaign_tours</th>\n",
       "      <th>campaign_revenue</th>\n",
       "      <th>campaign_gmv</th>\n",
       "      <th>campaign_discount_value</th>\n",
       "    </tr>\n",
       "  </thead>\n",
       "  <tbody>\n",
       "    <tr>\n",
       "      <th>count</th>\n",
       "      <td>501137.000000</td>\n",
       "      <td>501137.000000</td>\n",
       "      <td>501137.000000</td>\n",
       "      <td>501137.000000</td>\n",
       "      <td>501234.000000</td>\n",
       "      <td>501234.000000</td>\n",
       "      <td>501369.000000</td>\n",
       "      <td>501369.0</td>\n",
       "      <td>501369.000000</td>\n",
       "      <td>501369.000000</td>\n",
       "      <td>94720.000000</td>\n",
       "      <td>94720.000000</td>\n",
       "      <td>94720.000000</td>\n",
       "    </tr>\n",
       "    <tr>\n",
       "      <th>mean</th>\n",
       "      <td>38.991609</td>\n",
       "      <td>6.510952</td>\n",
       "      <td>5.703885</td>\n",
       "      <td>0.807067</td>\n",
       "      <td>3.207097</td>\n",
       "      <td>3.084733</td>\n",
       "      <td>5.714189</td>\n",
       "      <td>1.0</td>\n",
       "      <td>0.188923</td>\n",
       "      <td>0.230447</td>\n",
       "      <td>2.351725</td>\n",
       "      <td>10.093243</td>\n",
       "      <td>2.178709</td>\n",
       "    </tr>\n",
       "    <tr>\n",
       "      <th>std</th>\n",
       "      <td>98.715459</td>\n",
       "      <td>15.902053</td>\n",
       "      <td>14.602252</td>\n",
       "      <td>1.953439</td>\n",
       "      <td>0.849154</td>\n",
       "      <td>1.148651</td>\n",
       "      <td>2.311474</td>\n",
       "      <td>0.0</td>\n",
       "      <td>0.391448</td>\n",
       "      <td>0.526843</td>\n",
       "      <td>1.415499</td>\n",
       "      <td>6.068438</td>\n",
       "      <td>1.638637</td>\n",
       "    </tr>\n",
       "    <tr>\n",
       "      <th>min</th>\n",
       "      <td>1.000000</td>\n",
       "      <td>0.000000</td>\n",
       "      <td>0.000000</td>\n",
       "      <td>0.000000</td>\n",
       "      <td>1.000000</td>\n",
       "      <td>1.000000</td>\n",
       "      <td>1.000000</td>\n",
       "      <td>1.0</td>\n",
       "      <td>0.000000</td>\n",
       "      <td>0.000000</td>\n",
       "      <td>0.562358</td>\n",
       "      <td>2.249433</td>\n",
       "      <td>0.224943</td>\n",
       "    </tr>\n",
       "    <tr>\n",
       "      <th>25%</th>\n",
       "      <td>2.000000</td>\n",
       "      <td>0.000000</td>\n",
       "      <td>0.000000</td>\n",
       "      <td>0.000000</td>\n",
       "      <td>2.000000</td>\n",
       "      <td>2.000000</td>\n",
       "      <td>6.000000</td>\n",
       "      <td>1.0</td>\n",
       "      <td>0.000000</td>\n",
       "      <td>0.000000</td>\n",
       "      <td>1.359501</td>\n",
       "      <td>5.826032</td>\n",
       "      <td>0.956009</td>\n",
       "    </tr>\n",
       "    <tr>\n",
       "      <th>50%</th>\n",
       "      <td>8.000000</td>\n",
       "      <td>0.000000</td>\n",
       "      <td>0.000000</td>\n",
       "      <td>0.000000</td>\n",
       "      <td>3.000000</td>\n",
       "      <td>4.000000</td>\n",
       "      <td>7.000000</td>\n",
       "      <td>1.0</td>\n",
       "      <td>0.000000</td>\n",
       "      <td>0.000000</td>\n",
       "      <td>2.010431</td>\n",
       "      <td>8.604081</td>\n",
       "      <td>1.777052</td>\n",
       "    </tr>\n",
       "    <tr>\n",
       "      <th>75%</th>\n",
       "      <td>32.000000</td>\n",
       "      <td>6.000000</td>\n",
       "      <td>4.000000</td>\n",
       "      <td>1.000000</td>\n",
       "      <td>4.000000</td>\n",
       "      <td>4.000000</td>\n",
       "      <td>7.000000</td>\n",
       "      <td>1.0</td>\n",
       "      <td>0.000000</td>\n",
       "      <td>0.000000</td>\n",
       "      <td>2.956950</td>\n",
       "      <td>12.709297</td>\n",
       "      <td>2.811791</td>\n",
       "    </tr>\n",
       "    <tr>\n",
       "      <th>max</th>\n",
       "      <td>4719.000000</td>\n",
       "      <td>378.000000</td>\n",
       "      <td>341.000000</td>\n",
       "      <td>68.000000</td>\n",
       "      <td>4.000000</td>\n",
       "      <td>4.000000</td>\n",
       "      <td>7.000000</td>\n",
       "      <td>1.0</td>\n",
       "      <td>1.000000</td>\n",
       "      <td>7.000000</td>\n",
       "      <td>29.289024</td>\n",
       "      <td>128.909383</td>\n",
       "      <td>26.678276</td>\n",
       "    </tr>\n",
       "  </tbody>\n",
       "</table>\n",
       "</div>"
      ],
      "text/plain": [
       "       lifetime_tours  lifetime_phv_tours  pre_campaign_phv_tours  \\\n",
       "count   501137.000000       501137.000000           501137.000000   \n",
       "mean        38.991609            6.510952                5.703885   \n",
       "std         98.715459           15.902053               14.602252   \n",
       "min          1.000000            0.000000                0.000000   \n",
       "25%          2.000000            0.000000                0.000000   \n",
       "50%          8.000000            0.000000                0.000000   \n",
       "75%         32.000000            6.000000                4.000000   \n",
       "max       4719.000000          378.000000              341.000000   \n",
       "\n",
       "       campaign_phv_tours  pas_lc_status   pas_c_status       deposits  \\\n",
       "count       501137.000000  501234.000000  501234.000000  501369.000000   \n",
       "mean             0.807067       3.207097       3.084733       5.714189   \n",
       "std              1.953439       0.849154       1.148651       2.311474   \n",
       "min              0.000000       1.000000       1.000000       1.000000   \n",
       "25%              0.000000       2.000000       2.000000       6.000000   \n",
       "50%              0.000000       3.000000       4.000000       7.000000   \n",
       "75%              1.000000       4.000000       4.000000       7.000000   \n",
       "max             68.000000       4.000000       4.000000       7.000000   \n",
       "\n",
       "       deposits_PAS   redeemed_PAS  campaign_tours  campaign_revenue  \\\n",
       "count      501369.0  501369.000000   501369.000000      94720.000000   \n",
       "mean            1.0       0.188923        0.230447          2.351725   \n",
       "std             0.0       0.391448        0.526843          1.415499   \n",
       "min             1.0       0.000000        0.000000          0.562358   \n",
       "25%             1.0       0.000000        0.000000          1.359501   \n",
       "50%             1.0       0.000000        0.000000          2.010431   \n",
       "75%             1.0       0.000000        0.000000          2.956950   \n",
       "max             1.0       1.000000        7.000000         29.289024   \n",
       "\n",
       "       campaign_gmv  campaign_discount_value  \n",
       "count  94720.000000             94720.000000  \n",
       "mean      10.093243                 2.178709  \n",
       "std        6.068438                 1.638637  \n",
       "min        2.249433                 0.224943  \n",
       "25%        5.826032                 0.956009  \n",
       "50%        8.604081                 1.777052  \n",
       "75%       12.709297                 2.811791  \n",
       "max      128.909383                26.678276  "
      ]
     },
     "execution_count": 7,
     "metadata": {},
     "output_type": "execute_result"
    }
   ],
   "source": [
    "df.describe()"
   ]
  },
  {
   "cell_type": "code",
   "execution_count": 8,
   "id": "8727889a",
   "metadata": {
    "ExecuteTime": {
     "end_time": "2021-12-08T10:38:32.379946Z",
     "start_time": "2021-12-08T10:38:32.368300Z"
    }
   },
   "outputs": [],
   "source": [
    "data= df[['id_p','date_deposit','date_redemption','lifetime_tours','lifetime_phv_tours','pre_campaign_phv_tours','campaign_phv_tours','deposits_PAS']]"
   ]
  },
  {
   "cell_type": "code",
   "execution_count": 9,
   "id": "cdd5ef65",
   "metadata": {
    "ExecuteTime": {
     "end_time": "2021-12-08T10:38:32.389272Z",
     "start_time": "2021-12-08T10:38:32.381873Z"
    }
   },
   "outputs": [
    {
     "data": {
      "text/plain": [
       "1    501369\n",
       "Name: deposits_PAS, dtype: int64"
      ]
     },
     "execution_count": 9,
     "metadata": {},
     "output_type": "execute_result"
    }
   ],
   "source": [
    "data.deposits_PAS.value_counts()"
   ]
  },
  {
   "cell_type": "markdown",
   "id": "62c3557c",
   "metadata": {},
   "source": [
    "## Aggregate or clean \n",
    "From the dataset it is observed that some user_id is captured more than once, we can group by the user id, then continue with analysis. Droping the users will not be wise because of the quantiy of records it involves.\n"
   ]
  },
  {
   "cell_type": "code",
   "execution_count": 10,
   "id": "4f5b7cbb",
   "metadata": {
    "ExecuteTime": {
     "end_time": "2021-12-08T10:38:32.829283Z",
     "start_time": "2021-12-08T10:38:32.393399Z"
    }
   },
   "outputs": [
    {
     "data": {
      "text/html": [
       "<div>\n",
       "<style scoped>\n",
       "    .dataframe tbody tr th:only-of-type {\n",
       "        vertical-align: middle;\n",
       "    }\n",
       "\n",
       "    .dataframe tbody tr th {\n",
       "        vertical-align: top;\n",
       "    }\n",
       "\n",
       "    .dataframe thead th {\n",
       "        text-align: right;\n",
       "    }\n",
       "</style>\n",
       "<table border=\"1\" class=\"dataframe\">\n",
       "  <thead>\n",
       "    <tr style=\"text-align: right;\">\n",
       "      <th></th>\n",
       "      <th>id_p</th>\n",
       "      <th>pre_campaign_phv_tours</th>\n",
       "      <th>campaign_phv_tours</th>\n",
       "      <th>deposits_PAS</th>\n",
       "    </tr>\n",
       "  </thead>\n",
       "  <tbody>\n",
       "    <tr>\n",
       "      <th>0</th>\n",
       "      <td>MTA0MDAxNDA=</td>\n",
       "      <td>0.0</td>\n",
       "      <td>0.0</td>\n",
       "      <td>1</td>\n",
       "    </tr>\n",
       "    <tr>\n",
       "      <th>1</th>\n",
       "      <td>MTA0MDE2MDY=</td>\n",
       "      <td>1.0</td>\n",
       "      <td>0.0</td>\n",
       "      <td>1</td>\n",
       "    </tr>\n",
       "    <tr>\n",
       "      <th>2</th>\n",
       "      <td>MTA0MDE5ODQ=</td>\n",
       "      <td>2.0</td>\n",
       "      <td>0.0</td>\n",
       "      <td>1</td>\n",
       "    </tr>\n",
       "    <tr>\n",
       "      <th>3</th>\n",
       "      <td>MTA0MDEwODA=</td>\n",
       "      <td>24.0</td>\n",
       "      <td>2.0</td>\n",
       "      <td>2</td>\n",
       "    </tr>\n",
       "    <tr>\n",
       "      <th>4</th>\n",
       "      <td>MTA0MDExNTc=</td>\n",
       "      <td>1.0</td>\n",
       "      <td>0.0</td>\n",
       "      <td>1</td>\n",
       "    </tr>\n",
       "    <tr>\n",
       "      <th>...</th>\n",
       "      <td>...</td>\n",
       "      <td>...</td>\n",
       "      <td>...</td>\n",
       "      <td>...</td>\n",
       "    </tr>\n",
       "    <tr>\n",
       "      <th>410347</th>\n",
       "      <td>OTkzODc1</td>\n",
       "      <td>0.0</td>\n",
       "      <td>2.0</td>\n",
       "      <td>2</td>\n",
       "    </tr>\n",
       "    <tr>\n",
       "      <th>410348</th>\n",
       "      <td>OTkzODcwMA==</td>\n",
       "      <td>0.0</td>\n",
       "      <td>0.0</td>\n",
       "      <td>1</td>\n",
       "    </tr>\n",
       "    <tr>\n",
       "      <th>410349</th>\n",
       "      <td>OTkzODk2OQ==</td>\n",
       "      <td>0.0</td>\n",
       "      <td>0.0</td>\n",
       "      <td>1</td>\n",
       "    </tr>\n",
       "    <tr>\n",
       "      <th>410350</th>\n",
       "      <td>OTkzOTE3OQ==</td>\n",
       "      <td>0.0</td>\n",
       "      <td>0.0</td>\n",
       "      <td>1</td>\n",
       "    </tr>\n",
       "    <tr>\n",
       "      <th>410351</th>\n",
       "      <td>OTkzOTk5MQ==</td>\n",
       "      <td>0.0</td>\n",
       "      <td>0.0</td>\n",
       "      <td>1</td>\n",
       "    </tr>\n",
       "  </tbody>\n",
       "</table>\n",
       "<p>410352 rows × 4 columns</p>\n",
       "</div>"
      ],
      "text/plain": [
       "                id_p  pre_campaign_phv_tours  campaign_phv_tours  deposits_PAS\n",
       "0       MTA0MDAxNDA=                     0.0                 0.0             1\n",
       "1       MTA0MDE2MDY=                     1.0                 0.0             1\n",
       "2       MTA0MDE5ODQ=                     2.0                 0.0             1\n",
       "3       MTA0MDEwODA=                    24.0                 2.0             2\n",
       "4       MTA0MDExNTc=                     1.0                 0.0             1\n",
       "...              ...                     ...                 ...           ...\n",
       "410347      OTkzODc1                     0.0                 2.0             2\n",
       "410348  OTkzODcwMA==                     0.0                 0.0             1\n",
       "410349  OTkzODk2OQ==                     0.0                 0.0             1\n",
       "410350  OTkzOTE3OQ==                     0.0                 0.0             1\n",
       "410351  OTkzOTk5MQ==                     0.0                 0.0             1\n",
       "\n",
       "[410352 rows x 4 columns]"
      ]
     },
     "execution_count": 10,
     "metadata": {},
     "output_type": "execute_result"
    }
   ],
   "source": [
    "#group by customer \n",
    "customer_= data.groupby(by='id_p', as_index=False).agg({\"pre_campaign_phv_tours\": 'sum','campaign_phv_tours':'sum','deposits_PAS':'sum'})\n",
    "customer_"
   ]
  },
  {
   "cell_type": "code",
   "execution_count": 11,
   "id": "17c6791f",
   "metadata": {
    "ExecuteTime": {
     "end_time": "2021-12-08T10:38:32.838166Z",
     "start_time": "2021-12-08T10:38:32.831108Z"
    }
   },
   "outputs": [
    {
     "data": {
      "text/plain": [
       "1     363961\n",
       "2      22752\n",
       "3      11467\n",
       "4       6217\n",
       "5       3645\n",
       "6       1779\n",
       "7        520\n",
       "8          6\n",
       "10         3\n",
       "9          2\n",
       "Name: deposits_PAS, dtype: int64"
      ]
     },
     "execution_count": 11,
     "metadata": {},
     "output_type": "execute_result"
    }
   ],
   "source": [
    "customer_.deposits_PAS.value_counts()"
   ]
  },
  {
   "cell_type": "code",
   "execution_count": 12,
   "id": "807986d5",
   "metadata": {
    "ExecuteTime": {
     "end_time": "2021-12-08T10:38:32.951787Z",
     "start_time": "2021-12-08T10:38:32.839615Z"
    }
   },
   "outputs": [
    {
     "name": "stdout",
     "output_type": "stream",
     "text": [
      "The total pre campaign tours: 2858428.0\n",
      "Total  total campaign tours: 404451.0\n",
      "Total  total campaign deposits: 501369\n"
     ]
    }
   ],
   "source": [
    "#declare the features for conversions\n",
    "customer_['Pre_camp']= (customer_['pre_campaign_phv_tours']>0)*1\n",
    "customer_['During_camp']=(customer_['campaign_phv_tours']>0)*1\n",
    "customer_['Neu_Lift'] = ((customer_['Pre_camp']==0)& (customer_['During_camp']==1))*1\n",
    "customer_['Old_Lift'] = ((customer_['Pre_camp']==1)& (customer_['During_camp']==1))*1\n",
    "#customer_['Neu_ad'] = (customer_['deposits_PAS']>0)*1  # add for new customers\n",
    "customer_['Neu_ad'] = customer_['deposits_PAS'].apply(lambda x: 1 if x > 0 else 0)\n",
    "\n",
    "# Explore the data set by Printing the details of the dataset\n",
    "ttour_pre = data['pre_campaign_phv_tours'].sum()\n",
    "ttour_post = data['campaign_phv_tours'].sum()\n",
    "ttour_poten= customer_['deposits_PAS'].sum()\n",
    "\n",
    "print(f\"The total pre campaign tours: {ttour_pre}\")\n",
    "print(f\"Total  total campaign tours: {ttour_post}\")\n",
    "print(f\"Total  total campaign deposits: {ttour_poten}\")"
   ]
  },
  {
   "cell_type": "code",
   "execution_count": 13,
   "id": "280c0a57",
   "metadata": {
    "ExecuteTime": {
     "end_time": "2021-12-08T10:38:32.959089Z",
     "start_time": "2021-12-08T10:38:32.954262Z"
    }
   },
   "outputs": [
    {
     "name": "stdout",
     "output_type": "stream",
     "text": [
      "The total pre campaign conversion is: 148838\n",
      "The total campaign conversion is: 44185\n",
      "New entry to the PHV market: 4598\n",
      "Retained PHV users: 39587\n"
     ]
    }
   ],
   "source": [
    "# Quick overview of conversions \n",
    "precamp_conv = customer_['Pre_camp'].sum()\n",
    "camp_conv = customer_['During_camp'].sum()\n",
    "new_PHV_entry = customer_['Neu_Lift'].sum()\n",
    "retained_PHV_entry = customer_['Old_Lift'].sum()\n",
    "\n",
    "print(f\"The total pre campaign conversion is: {precamp_conv}\")\n",
    "print(f\"The total campaign conversion is: {camp_conv}\")\n",
    "print(f\"New entry to the PHV market: {new_PHV_entry}\")\n",
    "print(f\"Retained PHV users: {retained_PHV_entry}\")\n"
   ]
  },
  {
   "cell_type": "code",
   "execution_count": 14,
   "id": "1a3af012",
   "metadata": {
    "ExecuteTime": {
     "end_time": "2021-12-08T10:38:32.962722Z",
     "start_time": "2021-12-08T10:38:32.960804Z"
    }
   },
   "outputs": [],
   "source": [
    "##Split the cotrol and test experieent data"
   ]
  },
  {
   "cell_type": "code",
   "execution_count": 15,
   "id": "b78b0055",
   "metadata": {
    "ExecuteTime": {
     "end_time": "2021-12-08T10:38:33.002267Z",
     "start_time": "2021-12-08T10:38:32.964447Z"
    }
   },
   "outputs": [],
   "source": [
    "control = customer_[['id_p','pre_campaign_phv_tours']]\n",
    "test = customer_[['id_p','campaign_phv_tours']]"
   ]
  },
  {
   "cell_type": "code",
   "execution_count": 16,
   "id": "a183f34d",
   "metadata": {
    "ExecuteTime": {
     "end_time": "2021-12-08T10:38:33.024837Z",
     "start_time": "2021-12-08T10:38:33.004206Z"
    }
   },
   "outputs": [
    {
     "name": "stderr",
     "output_type": "stream",
     "text": [
      "/Users/emeka/opt/anaconda3/lib/python3.8/site-packages/pandas/core/indexing.py:1667: SettingWithCopyWarning: \n",
      "A value is trying to be set on a copy of a slice from a DataFrame.\n",
      "Try using .loc[row_indexer,col_indexer] = value instead\n",
      "\n",
      "See the caveats in the documentation: https://pandas.pydata.org/pandas-docs/stable/user_guide/indexing.html#returning-a-view-versus-a-copy\n",
      "  self.obj[key] = value\n",
      "/Users/emeka/opt/anaconda3/lib/python3.8/site-packages/pandas/core/frame.py:5039: SettingWithCopyWarning: \n",
      "A value is trying to be set on a copy of a slice from a DataFrame\n",
      "\n",
      "See the caveats in the documentation: https://pandas.pydata.org/pandas-docs/stable/user_guide/indexing.html#returning-a-view-versus-a-copy\n",
      "  return super().rename(\n"
     ]
    }
   ],
   "source": [
    "#declare the features for conversions\n",
    "control.loc[:,'conv']= (control['pre_campaign_phv_tours']>0)*1\n",
    "test.loc[:,'conv']=(test['campaign_phv_tours']>0)*1\n",
    "control.loc[:,'group']= 'control'\n",
    "test.loc[:,'group'] = 'test'\n",
    "#rename columns\n",
    "control.rename(columns={\"pre_campaign_phv_tours\": \"tours\"},inplace=True)\n",
    "test.rename(columns={\"campaign_phv_tours\": \"tours\"}, inplace=True)\n"
   ]
  },
  {
   "cell_type": "code",
   "execution_count": 17,
   "id": "44d33f71",
   "metadata": {
    "ExecuteTime": {
     "end_time": "2021-12-08T10:38:33.059032Z",
     "start_time": "2021-12-08T10:38:33.026456Z"
    }
   },
   "outputs": [
    {
     "data": {
      "text/html": [
       "<div>\n",
       "<style scoped>\n",
       "    .dataframe tbody tr th:only-of-type {\n",
       "        vertical-align: middle;\n",
       "    }\n",
       "\n",
       "    .dataframe tbody tr th {\n",
       "        vertical-align: top;\n",
       "    }\n",
       "\n",
       "    .dataframe thead th {\n",
       "        text-align: right;\n",
       "    }\n",
       "</style>\n",
       "<table border=\"1\" class=\"dataframe\">\n",
       "  <thead>\n",
       "    <tr style=\"text-align: right;\">\n",
       "      <th></th>\n",
       "      <th>id_p</th>\n",
       "      <th>tours</th>\n",
       "      <th>conv</th>\n",
       "      <th>group</th>\n",
       "    </tr>\n",
       "  </thead>\n",
       "  <tbody>\n",
       "    <tr>\n",
       "      <th>0</th>\n",
       "      <td>MTA0MDAxNDA=</td>\n",
       "      <td>0.0</td>\n",
       "      <td>0</td>\n",
       "      <td>control</td>\n",
       "    </tr>\n",
       "    <tr>\n",
       "      <th>1</th>\n",
       "      <td>MTA0MDE2MDY=</td>\n",
       "      <td>1.0</td>\n",
       "      <td>1</td>\n",
       "      <td>control</td>\n",
       "    </tr>\n",
       "    <tr>\n",
       "      <th>2</th>\n",
       "      <td>MTA0MDE5ODQ=</td>\n",
       "      <td>2.0</td>\n",
       "      <td>1</td>\n",
       "      <td>control</td>\n",
       "    </tr>\n",
       "    <tr>\n",
       "      <th>3</th>\n",
       "      <td>MTA0MDEwODA=</td>\n",
       "      <td>24.0</td>\n",
       "      <td>1</td>\n",
       "      <td>control</td>\n",
       "    </tr>\n",
       "    <tr>\n",
       "      <th>4</th>\n",
       "      <td>MTA0MDExNTc=</td>\n",
       "      <td>1.0</td>\n",
       "      <td>1</td>\n",
       "      <td>control</td>\n",
       "    </tr>\n",
       "    <tr>\n",
       "      <th>...</th>\n",
       "      <td>...</td>\n",
       "      <td>...</td>\n",
       "      <td>...</td>\n",
       "      <td>...</td>\n",
       "    </tr>\n",
       "    <tr>\n",
       "      <th>410347</th>\n",
       "      <td>OTkzODc1</td>\n",
       "      <td>2.0</td>\n",
       "      <td>1</td>\n",
       "      <td>test</td>\n",
       "    </tr>\n",
       "    <tr>\n",
       "      <th>410348</th>\n",
       "      <td>OTkzODcwMA==</td>\n",
       "      <td>0.0</td>\n",
       "      <td>0</td>\n",
       "      <td>test</td>\n",
       "    </tr>\n",
       "    <tr>\n",
       "      <th>410349</th>\n",
       "      <td>OTkzODk2OQ==</td>\n",
       "      <td>0.0</td>\n",
       "      <td>0</td>\n",
       "      <td>test</td>\n",
       "    </tr>\n",
       "    <tr>\n",
       "      <th>410350</th>\n",
       "      <td>OTkzOTE3OQ==</td>\n",
       "      <td>0.0</td>\n",
       "      <td>0</td>\n",
       "      <td>test</td>\n",
       "    </tr>\n",
       "    <tr>\n",
       "      <th>410351</th>\n",
       "      <td>OTkzOTk5MQ==</td>\n",
       "      <td>0.0</td>\n",
       "      <td>0</td>\n",
       "      <td>test</td>\n",
       "    </tr>\n",
       "  </tbody>\n",
       "</table>\n",
       "<p>820704 rows × 4 columns</p>\n",
       "</div>"
      ],
      "text/plain": [
       "                id_p  tours  conv    group\n",
       "0       MTA0MDAxNDA=    0.0     0  control\n",
       "1       MTA0MDE2MDY=    1.0     1  control\n",
       "2       MTA0MDE5ODQ=    2.0     1  control\n",
       "3       MTA0MDEwODA=   24.0     1  control\n",
       "4       MTA0MDExNTc=    1.0     1  control\n",
       "...              ...    ...   ...      ...\n",
       "410347      OTkzODc1    2.0     1     test\n",
       "410348  OTkzODcwMA==    0.0     0     test\n",
       "410349  OTkzODk2OQ==    0.0     0     test\n",
       "410350  OTkzOTE3OQ==    0.0     0     test\n",
       "410351  OTkzOTk5MQ==    0.0     0     test\n",
       "\n",
       "[820704 rows x 4 columns]"
      ]
     },
     "execution_count": 17,
     "metadata": {},
     "output_type": "execute_result"
    }
   ],
   "source": [
    "exp_data = pd.concat([control, test], axis = 0)\n",
    "exp_data "
   ]
  },
  {
   "cell_type": "markdown",
   "id": "d4aa30ba",
   "metadata": {},
   "source": [
    "## Get sample size"
   ]
  },
  {
   "cell_type": "code",
   "execution_count": 18,
   "id": "49b811d2",
   "metadata": {
    "ExecuteTime": {
     "end_time": "2021-12-08T10:38:33.070035Z",
     "start_time": "2021-12-08T10:38:33.060318Z"
    }
   },
   "outputs": [
    {
     "data": {
      "text/plain": [
       "0.5234055632805942"
      ]
     },
     "execution_count": 18,
     "metadata": {},
     "output_type": "execute_result"
    }
   ],
   "source": [
    "\n",
    "def get_power(n, p1, p2, cl):\n",
    "    '''\n",
    "    This function gets the scores the combination of samplesize, shift and confidence level'''\n",
    "   \n",
    "    alpha = 1 - cl\n",
    "    qu = stats.norm.ppf(1 - alpha/2)\n",
    "    diff = abs(p2-p1)\n",
    "    bp = (p1+p2) / 2\n",
    "    \n",
    "    v1 = p1 * (1-p1)\n",
    "    v2 = p2 * (1-p2)\n",
    "    bv = bp * (1-bp)\n",
    "    power_part_one = stats.norm.cdf((n**0.5 * diff - qu * (2 * bv)**0.5) / (v1+v2) ** 0.5)\n",
    "    power_part_two = 1 - stats.norm.cdf((n**0.5 * diff + qu * (2 * bv)**0.5) / (v1+v2) ** 0.5)\n",
    "    power = power_part_one - power_part_two\n",
    "    return (power)\n",
    "\n",
    "p1= customer_['Pre_camp'].mean()\n",
    "p2 = customer_['During_camp'].mean()\n",
    "p1,p2\n",
    "#Test the values of the sample size and confidence interval to know it effect on the power function\n",
    "get_power(10, p1, p2, 0.95)\n",
    "get_power(200, p1, p2, 0.95)  \n",
    "get_power(10, p1, p2, 0.8) "
   ]
  },
  {
   "cell_type": "markdown",
   "id": "477d3b3b",
   "metadata": {
    "ExecuteTime": {
     "end_time": "2021-12-06T05:20:07.554775Z",
     "start_time": "2021-12-06T05:20:07.549772Z"
    }
   },
   "source": [
    "**Findings **\n",
    "\n",
    "* *The sample size affect the power value possitively*\n",
    "* *The confidence interval possitively affects the power value."
   ]
  },
  {
   "cell_type": "markdown",
   "id": "9861dbb6",
   "metadata": {},
   "source": [
    "## Sample size"
   ]
  },
  {
   "cell_type": "code",
   "execution_count": 19,
   "id": "bacbdb8e",
   "metadata": {
    "ExecuteTime": {
     "end_time": "2021-12-08T10:38:33.074098Z",
     "start_time": "2021-12-08T10:38:33.071405Z"
    }
   },
   "outputs": [],
   "source": [
    "def get_sample_size(power, p1, p2, cl, max_n=1000000):\n",
    "    '''\n",
    "    This functions calculates the sample size of experiment.\n",
    "    '''\n",
    "    n = 1 \n",
    "    while n <= max_n:\n",
    "        tmp_power = get_power(n, p1, p2, cl)\n",
    "\n",
    "        if tmp_power >= power: \n",
    "            return n \n",
    "        else: \n",
    "            n = n + 100"
   ]
  },
  {
   "cell_type": "code",
   "execution_count": 20,
   "id": "5de42d5b",
   "metadata": {
    "ExecuteTime": {
     "end_time": "2021-12-08T10:38:33.079416Z",
     "start_time": "2021-12-08T10:38:33.075421Z"
    }
   },
   "outputs": [],
   "source": [
    "c_r_con =  customer_['Pre_camp'].sum()/customer_['Pre_camp'].count()\n",
    "c_r_test = customer_['During_camp'].sum()/customer_['During_camp'].count()"
   ]
  },
  {
   "cell_type": "code",
   "execution_count": 21,
   "id": "18c756c4",
   "metadata": {
    "ExecuteTime": {
     "end_time": "2021-12-08T10:38:33.155205Z",
     "start_time": "2021-12-08T10:38:33.080745Z"
    }
   },
   "outputs": [
    {
     "data": {
      "text/plain": [
       "30901"
      ]
     },
     "execution_count": 21,
     "metadata": {},
     "output_type": "execute_result"
    }
   ],
   "source": [
    "#test 1\n",
    "conversion_rate = customer_['Pre_camp'].sum()/customer_['Pre_camp'].count()\n",
    "power = 0.8\n",
    "cl = 0.95\n",
    "percent_lift = 0.03\n",
    "conversion_rate_p2 = conversion_rate * (1 + percent_lift)\n",
    "get_sample_size(power, conversion_rate, conversion_rate_p2, cl)"
   ]
  },
  {
   "cell_type": "code",
   "execution_count": 22,
   "id": "f5e3bea6",
   "metadata": {
    "ExecuteTime": {
     "end_time": "2021-12-08T10:38:33.198271Z",
     "start_time": "2021-12-08T10:38:33.156968Z"
    }
   },
   "outputs": [
    {
     "data": {
      "text/plain": [
       "15001"
      ]
     },
     "execution_count": 22,
     "metadata": {},
     "output_type": "execute_result"
    }
   ],
   "source": [
    "#test2\n",
    "conversion_rate = customer_['Pre_camp'].sum()/customer_['Pre_camp'].count()\n",
    "power = 0.9\n",
    "cl = 0.95\n",
    "percent_lift = 0.05\n",
    "conversion_rate_p2 = conversion_rate * (1 + percent_lift)\n",
    "get_sample_size(power, conversion_rate, conversion_rate_p2, cl)"
   ]
  },
  {
   "cell_type": "code",
   "execution_count": 23,
   "id": "0d15fdca",
   "metadata": {
    "ExecuteTime": {
     "end_time": "2021-12-08T10:38:33.815316Z",
     "start_time": "2021-12-08T10:38:33.200263Z"
    }
   },
   "outputs": [
    {
     "data": {
      "text/plain": [
       "276501"
      ]
     },
     "execution_count": 23,
     "metadata": {},
     "output_type": "execute_result"
    }
   ],
   "source": [
    "#test 3\n",
    "conversion_rate = customer_['Pre_camp'].sum()/customer_['Pre_camp'].count()\n",
    "power =0.80\n",
    "cl = 0.95\n",
    "percent_lift = 0.01\n",
    "conversion_rate_p2 = conversion_rate * (1 + percent_lift)\n",
    "get_sample_size(power, conversion_rate, conversion_rate_p2, cl)"
   ]
  },
  {
   "cell_type": "markdown",
   "id": "874dbcc0",
   "metadata": {},
   "source": [
    "From the three test above, \n",
    "* **using power = 0.80, cl= 0.95 and lift 0.03**\n",
    "* **using power = 0.90, cl= 0.95 and lift 0.05**\n",
    "* **using power = 0.95, cl= 0.95 and lift 0.02**\n",
    "\n",
    "From the calculation above, the the best power value means a total of 276501 records will be selected at random from the control and test set."
   ]
  },
  {
   "cell_type": "code",
   "execution_count": 24,
   "id": "ed0023b7",
   "metadata": {
    "ExecuteTime": {
     "end_time": "2021-12-08T10:38:34.091821Z",
     "start_time": "2021-12-08T10:38:33.817454Z"
    }
   },
   "outputs": [],
   "source": [
    "#Randomly select 276501 samples values \n",
    "required_n= 276501 \n",
    "control_sample = exp_data[exp_data['group'] == 'control'].sample(n=required_n, random_state=22)\n",
    "treatment_sample = exp_data[exp_data['group'] == 'test'].sample(n= required_n, random_state=22)\n",
    "ab_test = pd.concat([control_sample, treatment_sample], axis=0)\n",
    "ab_test.reset_index(drop=True, inplace=True)"
   ]
  },
  {
   "cell_type": "code",
   "execution_count": 25,
   "id": "dd989e38",
   "metadata": {
    "ExecuteTime": {
     "end_time": "2021-12-08T10:38:34.123822Z",
     "start_time": "2021-12-08T10:38:34.093852Z"
    }
   },
   "outputs": [
    {
     "data": {
      "text/plain": [
       "control    276501\n",
       "test       276501\n",
       "Name: group, dtype: int64"
      ]
     },
     "execution_count": 25,
     "metadata": {},
     "output_type": "execute_result"
    }
   ],
   "source": [
    "#count to verify \n",
    "ab_test['group'].value_counts()"
   ]
  },
  {
   "cell_type": "code",
   "execution_count": 61,
   "id": "b5173280",
   "metadata": {
    "ExecuteTime": {
     "end_time": "2021-12-08T10:48:41.321686Z",
     "start_time": "2021-12-08T10:48:41.146672Z"
    }
   },
   "outputs": [
    {
     "data": {
      "text/html": [
       "<style type=\"text/css\">\n",
       "</style>\n",
       "<table id=\"T_05fb0_\">\n",
       "  <thead>\n",
       "    <tr>\n",
       "      <th class=\"blank level0\" >&nbsp;</th>\n",
       "      <th class=\"col_heading level0 col0\" >conversion_rate</th>\n",
       "      <th class=\"col_heading level0 col1\" >std_deviation</th>\n",
       "      <th class=\"col_heading level0 col2\" >std_error</th>\n",
       "    </tr>\n",
       "    <tr>\n",
       "      <th class=\"index_name level0\" >group</th>\n",
       "      <th class=\"blank col0\" >&nbsp;</th>\n",
       "      <th class=\"blank col1\" >&nbsp;</th>\n",
       "      <th class=\"blank col2\" >&nbsp;</th>\n",
       "    </tr>\n",
       "  </thead>\n",
       "  <tbody>\n",
       "    <tr>\n",
       "      <th id=\"T_05fb0_level0_row0\" class=\"row_heading level0 row0\" >control</th>\n",
       "      <td id=\"T_05fb0_row0_col0\" class=\"data row0 col0\" >0.362</td>\n",
       "      <td id=\"T_05fb0_row0_col1\" class=\"data row0 col1\" >0.480</td>\n",
       "      <td id=\"T_05fb0_row0_col2\" class=\"data row0 col2\" >0.001</td>\n",
       "    </tr>\n",
       "    <tr>\n",
       "      <th id=\"T_05fb0_level0_row1\" class=\"row_heading level0 row1\" >test</th>\n",
       "      <td id=\"T_05fb0_row1_col0\" class=\"data row1 col0\" >0.107</td>\n",
       "      <td id=\"T_05fb0_row1_col1\" class=\"data row1 col1\" >0.309</td>\n",
       "      <td id=\"T_05fb0_row1_col2\" class=\"data row1 col2\" >0.001</td>\n",
       "    </tr>\n",
       "  </tbody>\n",
       "</table>\n"
      ],
      "text/plain": [
       "<pandas.io.formats.style.Styler at 0x7fb64e5bd700>"
      ]
     },
     "execution_count": 61,
     "metadata": {},
     "output_type": "execute_result"
    }
   ],
   "source": [
    "test_summ = ab_test.groupby(by='group', as_index=False).agg({'id_p': 'count','conv':'sum'})\n",
    "conversion_rates = ab_test.groupby('group')['conv']\n",
    "\n",
    "std_p = lambda x: np.std(x, ddof=0)              # Std. deviation of the proportion\n",
    "se_p = lambda x: stats.sem(x, ddof=0)            # Std. error of the proportion (std / sqrt(n))\n",
    "me_p = lambda x: np.mean(x, ddof=0)\n",
    "\n",
    "conversion_rates = conversion_rates.agg([np.mean, std_p, se_p])\n",
    "conversion_rates.columns = ['conversion_rate', 'std_deviation', 'std_error']\n",
    "\n",
    "conversion_rates.style.format('{:.3f}')"
   ]
  },
  {
   "cell_type": "code",
   "execution_count": 47,
   "id": "790eaa7c",
   "metadata": {
    "ExecuteTime": {
     "end_time": "2021-12-08T10:45:31.384882Z",
     "start_time": "2021-12-08T10:45:31.380470Z"
    }
   },
   "outputs": [
    {
     "data": {
      "text/plain": [
       "Index(['control', 'test'], dtype='object', name='group')"
      ]
     },
     "execution_count": 47,
     "metadata": {},
     "output_type": "execute_result"
    }
   ],
   "source": [
    "x= conversion_rates.index"
   ]
  },
  {
   "cell_type": "code",
   "execution_count": 27,
   "id": "5d54f24e",
   "metadata": {
    "ExecuteTime": {
     "end_time": "2021-12-08T10:38:39.931350Z",
     "start_time": "2021-12-08T10:38:34.409930Z"
    }
   },
   "outputs": [
    {
     "data": {
      "image/png": "[encoded data removed]",
      "text/plain": [
       "<Figure size 800x600 with 1 Axes>"
      ]
     },
     "metadata": {
      "needs_background": "light"
     },
     "output_type": "display_data"
    }
   ],
   "source": [
    "plt.figure(figsize=(8,6),dpi=100)\n",
    "sns.barplot(x=ab_test['group'], y=ab_test['conv'], ci=False)\n",
    "plt.ylim(0, 0.4)\n",
    "plt.title('Conversion rate by group', pad=20)\n",
    "plt.xlabel('Group', labelpad=15)\n",
    "plt.ylabel('Converted (proportion)', labelpad=15);"
   ]
  },
  {
   "cell_type": "markdown",
   "id": "4faebe8c",
   "metadata": {
    "ExecuteTime": {
     "end_time": "2021-12-06T06:08:37.287268Z",
     "start_time": "2021-12-06T06:08:37.284695Z"
    }
   },
   "source": [
    "## Is it Stastically significant?\n",
    "\n",
    "Statistical Significance: we ask are the conversion rates different enough? If yes then we reject the null hypothesis.\\\n",
    "Remember form the top we need 95% confidence, any less believe that this change happens due to randomess. Then we reject right away. "
   ]
  },
  {
   "cell_type": "markdown",
   "id": "0020cd76",
   "metadata": {
    "ExecuteTime": {
     "end_time": "2021-12-05T15:43:02.616249Z",
     "start_time": "2021-12-05T15:43:02.613740Z"
    }
   },
   "source": [
    "## Get p-values"
   ]
  },
  {
   "cell_type": "code",
   "execution_count": 28,
   "id": "94dd393f",
   "metadata": {
    "ExecuteTime": {
     "end_time": "2021-12-08T10:38:39.944411Z",
     "start_time": "2021-12-08T10:38:39.939365Z"
    }
   },
   "outputs": [
    {
     "name": "stdout",
     "output_type": "stream",
     "text": [
      "0.0\n",
      "Significant Result\n"
     ]
    }
   ],
   "source": [
    "# group conversion rates and group sizes\n",
    "def get_pvalue(c_r_con, c_r_test,contl_size, test_size,):\n",
    "    lift = - abs(c_r_test - c_r_con)\n",
    "    scale_one = c_r_con * (1 - c_r_con) * (1 / contl_size) \n",
    "    scale_two = c_r_test * (1 - c_r_test) * (1 / test_size) \n",
    "    scale_val = (scale_one + scale_two)**0.5\n",
    "    p_value = 2 * stats.norm.cdf(lift, loc = 0, scale = scale_val )\n",
    "    return p_value.round(5)\n",
    "\n",
    "#we have some already estimated quantities \n",
    "contl_size = 410352\n",
    "test_size  = 410352\n",
    "c_r_con =  0.362 #conversion rate control\n",
    "c_r_test = 0.107  #conversion rate test\n",
    "p_value = get_pvalue(c_r_con, c_r_test, contl_size,test_size) \n",
    "print(p_value)\n",
    "# Check for statistical significance\n",
    "if p_value >= 0.05:\n",
    "    print(\"Not Significant\")\n",
    "else:\n",
    "    print(\"Significant Result\")"
   ]
  },
  {
   "cell_type": "markdown",
   "id": "d902dae0",
   "metadata": {
    "ExecuteTime": {
     "end_time": "2021-12-06T05:42:45.289838Z",
     "start_time": "2021-12-06T05:42:45.289822Z"
    }
   },
   "source": [
    "Very strong eveidence against the null Hypothesis.\n",
    "The control and test samples exhibits a significant difference."
   ]
  },
  {
   "cell_type": "markdown",
   "id": "c138b812",
   "metadata": {
    "ExecuteTime": {
     "end_time": "2021-12-05T18:37:05.255587Z",
     "start_time": "2021-12-05T18:37:05.252001Z"
    }
   },
   "source": [
    "## Confidence interval"
   ]
  },
  {
   "cell_type": "code",
   "execution_count": 29,
   "id": "3a5806f4",
   "metadata": {
    "ExecuteTime": {
     "end_time": "2021-12-08T10:38:39.950509Z",
     "start_time": "2021-12-08T10:38:39.946441Z"
    }
   },
   "outputs": [],
   "source": [
    "def get_ci(test_conv, con_conv,test_size, con_size, ci):\n",
    "    sd = ((test_conv * (1 - test_conv)) / test_size + (con_conv * (1 - con_conv)) / con_size)**0.5\n",
    "    lift = test_conv - con_conv\n",
    "    val = stats.norm.isf((1 - ci) / 2) \n",
    "    lwr_bnd = lift - val * sd\n",
    "    upr_bnd = lift + val * sd \n",
    "    return((lwr_bnd, upr_bnd))"
   ]
  },
  {
   "cell_type": "code",
   "execution_count": 30,
   "id": "a268eb6e",
   "metadata": {
    "ExecuteTime": {
     "end_time": "2021-12-08T10:38:39.956802Z",
     "start_time": "2021-12-08T10:38:39.952281Z"
    }
   },
   "outputs": [
    {
     "data": {
      "text/plain": [
       "(-0.25674830042071056, -0.25325169957928945)"
      ]
     },
     "execution_count": 30,
     "metadata": {},
     "output_type": "execute_result"
    }
   ],
   "source": [
    "#confidence interval \n",
    "lwr_bnd, upr_bnd=get_ci(c_r_test, c_r_con,test_size, contl_size, 0.95)\n",
    "lwr_bnd, upr_bnd"
   ]
  },
  {
   "cell_type": "code",
   "execution_count": 31,
   "id": "25a0f236",
   "metadata": {
    "ExecuteTime": {
     "end_time": "2021-12-08T10:38:39.961221Z",
     "start_time": "2021-12-08T10:38:39.958015Z"
    }
   },
   "outputs": [
    {
     "data": {
      "text/plain": [
       "-0.255"
      ]
     },
     "execution_count": 31,
     "metadata": {},
     "output_type": "execute_result"
    }
   ],
   "source": [
    "c_r_test-c_r_con"
   ]
  },
  {
   "cell_type": "markdown",
   "id": "91b158c7",
   "metadata": {
    "ExecuteTime": {
     "end_time": "2021-12-06T08:47:47.974840Z",
     "start_time": "2021-12-06T08:47:47.970853Z"
    }
   },
   "source": [
    "A very narrow interval like seen from above, \\\n",
    "indicates a strong confidence of about 95% on range (- .2567 and -0.2532) the negative sign shows that this is a directional analysis. it needs to be analysed further using on tailed test."
   ]
  },
  {
   "cell_type": "code",
   "execution_count": 32,
   "id": "3b359593",
   "metadata": {
    "ExecuteTime": {
     "end_time": "2021-12-08T10:38:39.966488Z",
     "start_time": "2021-12-08T10:38:39.962778Z"
    }
   },
   "outputs": [],
   "source": [
    "#Mean of experiement data for control and Test\n",
    "mean_con = control_sample['conv'].mean()\n",
    "mean_test = treatment_sample['conv'].var()"
   ]
  },
  {
   "cell_type": "code",
   "execution_count": 33,
   "id": "3fb20349",
   "metadata": {
    "ExecuteTime": {
     "end_time": "2021-12-08T10:38:39.973086Z",
     "start_time": "2021-12-08T10:38:39.968277Z"
    }
   },
   "outputs": [],
   "source": [
    "v_c =control_sample['conv'].var()\n",
    "v_t=treatment_sample['conv'].var()"
   ]
  },
  {
   "cell_type": "code",
   "execution_count": 35,
   "id": "291fe70d",
   "metadata": {
    "ExecuteTime": {
     "end_time": "2021-12-08T10:43:35.517817Z",
     "start_time": "2021-12-08T10:43:35.421732Z"
    }
   },
   "outputs": [
    {
     "data": {
      "image/png": "[encoded data removed]",
      "text/plain": [
       "<Figure size 432x288 with 1 Axes>"
      ]
     },
     "metadata": {
      "needs_background": "light"
     },
     "output_type": "display_data"
    }
   ],
   "source": [
    "# Use our mean values to calculate the variance\n",
    "mean_con = control_sample['conv'].mean()\n",
    "mean_test = treatment_sample['conv'].mean()\n",
    "var_con = (mean_con * (1 - mean_con)) / required_n \n",
    "var_test = (mean_test * (1 - mean_test)) / required_n\n",
    "#var_con=v_c \n",
    "#var_test=v_t\n",
    "# Generate a range of values across the\n",
    "# distribution from +/- 3 sd around the mean \n",
    "con_line = np.linspace(-3 * var_con**0.5 +mean_con, 3 * var_con**0.5 + mean_con, 1000) \n",
    "test_line = np.linspace(-3 * var_test**0.5 +mean_test, 3 * var_test**0.5 + mean_test, 1000)\n",
    "# Plot the probabilities across the distributioin of conversion rates \n",
    "plt.plot(con_line,norm.pdf(con_line, mean_con,var_con**0.5) )\n",
    "plt.plot(test_line,norm.pdf(test_line, mean_test, var_test**0.5))\n",
    "\n",
    "plt.show()"
   ]
  },
  {
   "cell_type": "code",
   "execution_count": 36,
   "id": "28bdf429",
   "metadata": {
    "ExecuteTime": {
     "end_time": "2021-12-08T10:43:35.618610Z",
     "start_time": "2021-12-08T10:43:35.615716Z"
    }
   },
   "outputs": [],
   "source": [
    "lift = mean_test - mean_con\n",
    "var = var_test + var_con"
   ]
  },
  {
   "cell_type": "code",
   "execution_count": 37,
   "id": "cecc8925",
   "metadata": {
    "ExecuteTime": {
     "end_time": "2021-12-08T10:43:35.976212Z",
     "start_time": "2021-12-08T10:43:35.817256Z"
    }
   },
   "outputs": [
    {
     "data": {
      "image/png": "[encoded data removed]",
      "text/plain": [
       "<Figure size 432x288 with 1 Axes>"
      ]
     },
     "metadata": {
      "needs_background": "light"
     },
     "output_type": "display_data"
    }
   ],
   "source": [
    "# Plot our difference in conversion rates\n",
    "# as a distribution\n",
    "diff_line = np.linspace(-3 * var**0.5 + lift,3 * var**0.5 + lift, 100 )\n",
    "plt.plot(diff_line,norm.pdf( diff_line, lift, var**0.5)) \n",
    "plt.show()"
   ]
  },
  {
   "cell_type": "code",
   "execution_count": 38,
   "id": "06e9d5ae",
   "metadata": {
    "ExecuteTime": {
     "end_time": "2021-12-08T10:43:36.105899Z",
     "start_time": "2021-12-08T10:43:36.005199Z"
    }
   },
   "outputs": [
    {
     "data": {
      "image/png": "[encoded data removed]",
      "text/plain": [
       "<Figure size 432x288 with 1 Axes>"
      ]
     },
     "metadata": {
      "needs_background": "light"
     },
     "output_type": "display_data"
    }
   ],
   "source": [
    " # Find values over our confidence interval\n",
    "section = np.arange(lwr_bnd, upr_bnd , 1/10000)\n",
    "# Fill in between those boundaries\n",
    "plt.fill_between( section,norm.pdf(section,lift, var**0.5) )\n",
    "# Plot the difference with the confidence int.\n",
    "plt.plot(diff_line,norm.pdf(diff_line, lift, var**0.5) )\n",
    "plt.show()"
   ]
  },
  {
   "cell_type": "code",
   "execution_count": null,
   "id": "829a6b6e",
   "metadata": {},
   "outputs": [],
   "source": []
  },
  {
   "cell_type": "code",
   "execution_count": 39,
   "id": "e51597d9",
   "metadata": {
    "ExecuteTime": {
     "end_time": "2021-12-08T10:43:36.400267Z",
     "start_time": "2021-12-08T10:43:36.392563Z"
    }
   },
   "outputs": [
    {
     "data": {
      "text/html": [
       "<div>\n",
       "<style scoped>\n",
       "    .dataframe tbody tr th:only-of-type {\n",
       "        vertical-align: middle;\n",
       "    }\n",
       "\n",
       "    .dataframe tbody tr th {\n",
       "        vertical-align: top;\n",
       "    }\n",
       "\n",
       "    .dataframe thead th {\n",
       "        text-align: right;\n",
       "    }\n",
       "</style>\n",
       "<table border=\"1\" class=\"dataframe\">\n",
       "  <thead>\n",
       "    <tr style=\"text-align: right;\">\n",
       "      <th></th>\n",
       "      <th>group</th>\n",
       "      <th>id_p</th>\n",
       "      <th>conv</th>\n",
       "    </tr>\n",
       "  </thead>\n",
       "  <tbody>\n",
       "    <tr>\n",
       "      <th>0</th>\n",
       "      <td>control</td>\n",
       "      <td>276501</td>\n",
       "      <td>99959</td>\n",
       "    </tr>\n",
       "    <tr>\n",
       "      <th>1</th>\n",
       "      <td>test</td>\n",
       "      <td>276501</td>\n",
       "      <td>29483</td>\n",
       "    </tr>\n",
       "  </tbody>\n",
       "</table>\n",
       "</div>"
      ],
      "text/plain": [
       "     group    id_p   conv\n",
       "0  control  276501  99959\n",
       "1     test  276501  29483"
      ]
     },
     "execution_count": 39,
     "metadata": {},
     "output_type": "execute_result"
    }
   ],
   "source": [
    "test_summ"
   ]
  },
  {
   "cell_type": "code",
   "execution_count": 40,
   "id": "97d93244",
   "metadata": {
    "ExecuteTime": {
     "end_time": "2021-12-08T10:43:36.619564Z",
     "start_time": "2021-12-08T10:43:36.616764Z"
    }
   },
   "outputs": [],
   "source": [
    "num_con = required_n  #Number of control values\n",
    "num_tre = required_n #Number of treatment values\n",
    "cntrl, trment = 99959, 29483  #converted customers for treatment and control\n",
    "rate_cont, rate_treatment = cntrl / num_con, trment / num_tre"
   ]
  },
  {
   "cell_type": "code",
   "execution_count": 41,
   "id": "d55c67ae",
   "metadata": {
    "ExecuteTime": {
     "end_time": "2021-12-08T10:43:36.778343Z",
     "start_time": "2021-12-08T10:43:36.775025Z"
    }
   },
   "outputs": [],
   "source": [
    "a_dist = np.zeros(num_con)\n",
    "a_dist[:cntrl] = 1\n",
    "b_dist = np.zeros(num_tre)\n",
    "b_dist[:trment] = 1"
   ]
  },
  {
   "cell_type": "markdown",
   "id": "105bb9a4",
   "metadata": {
    "ExecuteTime": {
     "end_time": "2021-12-07T13:21:00.736937Z",
     "start_time": "2021-12-07T13:21:00.734816Z"
    }
   },
   "source": [
    "# Test 2 : Mann-Whitney U test\n",
    "\n",
    "in this test the null hypothesis is tested. The value \"less\" indicated, is that the alternative is saying  than the "
   ]
  },
  {
   "cell_type": "code",
   "execution_count": 42,
   "id": "848cd097",
   "metadata": {
    "ExecuteTime": {
     "end_time": "2021-12-08T10:43:37.811954Z",
     "start_time": "2021-12-08T10:43:37.567054Z"
    }
   },
   "outputs": [
    {
     "name": "stdout",
     "output_type": "stream",
     "text": [
      "Mann-Whitney U test for null hypothesis A <= B is 0.000\n"
     ]
    }
   ],
   "source": [
    "from scipy.stats import mannwhitneyu\n",
    "stat, p_value = mannwhitneyu(a_dist, b_dist, alternative=\"greater\")\n",
    "print(f\"Mann-Whitney U test for null hypothesis A <= B is {p_value:0.3f}\")"
   ]
  },
  {
   "cell_type": "markdown",
   "id": "d0e4645b",
   "metadata": {},
   "source": [
    "**Findings** \n",
    "* The null hypothesis here is that A(control) is less than or equal b(treatment), the alternate hypothesis is that A greater. \n",
    "* As seen form the caluclation the **P-Value** is less than 0.05. it solidifies our take that A(control) is better. "
   ]
  },
  {
   "cell_type": "markdown",
   "id": "129559b4",
   "metadata": {},
   "source": [
    "# Test 3: ## One tail Test \n",
    "\n",
    "#### Is B better than A?"
   ]
  },
  {
   "cell_type": "code",
   "execution_count": 43,
   "id": "d1783a9a",
   "metadata": {
    "ExecuteTime": {
     "end_time": "2021-12-08T10:43:38.436237Z",
     "start_time": "2021-12-08T10:43:38.329669Z"
    }
   },
   "outputs": [
    {
     "data": {
      "image/png": "[encoded data removed]",
      "text/plain": [
       "<Figure size 432x288 with 1 Axes>"
      ]
     },
     "metadata": {
      "needs_background": "light"
     },
     "output_type": "display_data"
    }
   ],
   "source": [
    "\n",
    "from scipy.stats import norm\n",
    "rate_cont\n",
    "rate_treatment \n",
    "num_a = required_n\n",
    "num_b = required_n\n",
    "# Where does this come from? See the link above.\n",
    "std_a = np.sqrt(rate_cont * (1 - rate_cont) / num_a)\n",
    "std_b = np.sqrt(rate_treatment  * (1 - rate_treatment ) / num_b)\n",
    "\n",
    "click_rate = np.linspace(0.05, 0.4, 200)\n",
    "prob_a = norm(rate_cont, std_a).pdf(click_rate)\n",
    "prob_b = norm(rate_treatment, std_b).pdf(click_rate)\n",
    "\n",
    "# Make the bar plots.\n",
    "plt.plot(click_rate, prob_a, label=\"A\")\n",
    "plt.plot(click_rate, prob_b, label=\"B\")\n",
    "plt.xlabel(\"Conversion rate\"); plt.ylabel(\"Probability\");"
   ]
  },
  {
   "cell_type": "code",
   "execution_count": 44,
   "id": "194ef832",
   "metadata": {
    "ExecuteTime": {
     "end_time": "2021-12-08T10:43:38.630135Z",
     "start_time": "2021-12-08T10:43:38.517586Z"
    }
   },
   "outputs": [
    {
     "name": "stdout",
     "output_type": "stream",
     "text": [
      "z-score is 234.709, with p-value 0.000\n"
     ]
    },
    {
     "data": {
      "text/plain": [
       "Text(1, 5, 'Area=0.000')"
      ]
     },
     "execution_count": 44,
     "metadata": {},
     "output_type": "execute_result"
    },
    {
     "data": {
      "image/png": "[encoded data removed]",
      "text/plain": [
       "<Figure size 432x288 with 1 Axes>"
      ]
     },
     "metadata": {
      "needs_background": "light"
     },
     "output_type": "display_data"
    }
   ],
   "source": [
    "# The z-score is really all we need if we want a number\n",
    "z_score = (rate_cont-rate_treatment ) / np.sqrt(std_a**2 + std_b**2)\n",
    "print(f\"z-score is {z_score:0.3f}, with p-value {norm().sf(z_score):0.3f}\")\n",
    "lift= rate_treatment - rate_cont\n",
    "# But I want a plot as well\n",
    "p = norm(rate_treatment - rate_cont, np.sqrt(std_a**2 + std_b**2))\n",
    "x = np.linspace(-0.26, -0.25, 1000)\n",
    "y = p.pdf(x)\n",
    "area_under_curve = p.sf(0)\n",
    "plt.plot(x, y, label=\"PDF\")\n",
    "plt.fill_between(x, y, label=\"Prob(a>b)\", alpha=0.3)\n",
    "plt.annotate(f\"Area={area_under_curve:0.3f}\", (1, 5))"
   ]
  },
  {
   "cell_type": "code",
   "execution_count": 45,
   "id": "a0dde82a",
   "metadata": {
    "ExecuteTime": {
     "end_time": "2021-12-08T10:43:38.724020Z",
     "start_time": "2021-12-08T10:43:38.707737Z"
    }
   },
   "outputs": [
    {
     "name": "stdout",
     "output_type": "stream",
     "text": [
      "1.0\n",
      "Control is better than treatment 100.0% of the time\n"
     ]
    }
   ],
   "source": [
    "def get_confidence_ab_test(rate_a ,rate_b):\n",
    "    std_a = np.sqrt(rate_a * (1 - rate_a) / num_a)\n",
    "    std_b = np.sqrt(rate_b * (1 - rate_b) / num_b)\n",
    "    z_score = (rate_a-rate_b ) / np.sqrt(std_a**2 + std_b**2)\n",
    "    return norm.cdf(z_score)\n",
    "\n",
    "print(get_confidence_ab_test(rate_cont,rate_treatment))\n",
    "\n",
    "# Draw 10000 samples of possible rates for a and b\n",
    "n = 100000\n",
    "rates_a = norm(rate_cont, std_a).rvs(n)\n",
    "rates_b = norm(rate_treatment, std_b).rvs(n)\n",
    "b_better = (rates_a>rates_b).mean()\n",
    "print(f\"Control is better than treatment {b_better:0.1%} of the time\")"
   ]
  },
  {
   "cell_type": "markdown",
   "id": "ee564bc1",
   "metadata": {},
   "source": [
    "** End Note**\n",
    "* It can be reprased  B > A only ~0% of the time.\n",
    "* which is statistically significant such that we can reject our hypothesis (that A <= B).\n",
    "* It is important to note that the time range for Control to achieve it conversion rate isn't stated..\n",
    "* Here we assume it is also 2 weeks data. "
   ]
  },
  {
   "cell_type": "code",
   "execution_count": null,
   "id": "1aff7506",
   "metadata": {},
   "outputs": [],
   "source": []
  }
 ],
 "metadata": {
  "kernelspec": {
   "display_name": "Python 3 (ipykernel)",
   "language": "python",
   "name": "python3"
  },
  "language_info": {
   "codemirror_mode": {
    "name": "ipython",
    "version": 3
   },
   "file_extension": ".py",
   "mimetype": "text/x-python",
   "name": "python",
   "nbconvert_exporter": "python",
   "pygments_lexer": "ipython3",
   "version": "3.8.12"
  }
 },
 "nbformat": 4,
 "nbformat_minor": 5
}
